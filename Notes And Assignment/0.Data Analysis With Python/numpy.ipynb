{
 "cells": [
  {
   "cell_type": "markdown",
   "id": "a7817732",
   "metadata": {},
   "source": [
    "# Numpy"
   ]
  },
  {
   "cell_type": "markdown",
   "id": "843a6ae2",
   "metadata": {},
   "source": [
    "NumPy is a fundamental library for scientific computing in python. it provides support for arrays and matrices ,along with a collection of mathematical functions to operate on these data structures. In this lesson ,we will cover the basics of NumPy, focusing on arrays and vectorized operations."
   ]
  },
  {
   "cell_type": "code",
   "execution_count": 1,
   "id": "bc7373df",
   "metadata": {},
   "outputs": [
    {
     "name": "stdout",
     "output_type": "stream",
     "text": [
      "Requirement already satisfied: numpy in c:\\users\\ak954\\anaconda3\\lib\\site-packages (1.26.4)\n"
     ]
    }
   ],
   "source": [
    "!pip install numpy"
   ]
  },
  {
   "cell_type": "code",
   "execution_count": 2,
   "id": "d03d0e85",
   "metadata": {},
   "outputs": [
    {
     "name": "stdout",
     "output_type": "stream",
     "text": [
      "[1 2 3 4 5]\n"
     ]
    }
   ],
   "source": [
    "import numpy as np\n",
    "\n",
    "## create array using numpy\n",
    "\n",
    "#create a 1D array\n",
    "arr1=np.array([1,2,3,4,5])\n",
    "print(arr1)"
   ]
  },
  {
   "cell_type": "code",
   "execution_count": 3,
   "id": "a88f3b5a",
   "metadata": {},
   "outputs": [
    {
     "name": "stdout",
     "output_type": "stream",
     "text": [
      "<class 'numpy.ndarray'>\n"
     ]
    }
   ],
   "source": [
    "print(type(arr1))"
   ]
  },
  {
   "cell_type": "code",
   "execution_count": 4,
   "id": "c5d1b3b7",
   "metadata": {},
   "outputs": [
    {
     "name": "stdout",
     "output_type": "stream",
     "text": [
      "(5,)\n"
     ]
    }
   ],
   "source": [
    "print(arr1.shape)"
   ]
  },
  {
   "cell_type": "code",
   "execution_count": null,
   "id": "890dee65",
   "metadata": {},
   "outputs": [
    {
     "data": {
      "text/plain": [
       "array([[1, 2, 3, 4, 5]])"
      ]
     },
     "execution_count": 5,
     "metadata": {},
     "output_type": "execute_result"
    }
   ],
   "source": [
    "arr2=np.array([1,2,3,4,5])\n",
    "arr2.reshape((1,5)) # 1 row and 5 colums"
   ]
  },
  {
   "cell_type": "code",
   "execution_count": 6,
   "id": "1ba19687",
   "metadata": {},
   "outputs": [
    {
     "ename": "ValueError",
     "evalue": "cannot reshape array of size 5 into shape (1,4)",
     "output_type": "error",
     "traceback": [
      "\u001b[1;31m---------------------------------------------------------------------------\u001b[0m",
      "\u001b[1;31mValueError\u001b[0m                                Traceback (most recent call last)",
      "Cell \u001b[1;32mIn[6], line 1\u001b[0m\n\u001b[1;32m----> 1\u001b[0m arr2\u001b[38;5;241m.\u001b[39mreshape((\u001b[38;5;241m1\u001b[39m,\u001b[38;5;241m4\u001b[39m))\n",
      "\u001b[1;31mValueError\u001b[0m: cannot reshape array of size 5 into shape (1,4)"
     ]
    }
   ],
   "source": [
    "arr2.reshape((1,4))"
   ]
  },
  {
   "cell_type": "code",
   "execution_count": null,
   "id": "e1534857",
   "metadata": {},
   "outputs": [
    {
     "name": "stdout",
     "output_type": "stream",
     "text": [
      "[[1 2 3 4 5]\n",
      " [2 3 4 5 6]]\n",
      "(2, 5)\n"
     ]
    }
   ],
   "source": [
    "## 2d arra\n",
    "arr2=np.array([[1,2,3,4,5],[2,3,4,5,6]])\n",
    "print(arr2)\n",
    "print(arr2.shape)"
   ]
  },
  {
   "cell_type": "code",
   "execution_count": 13,
   "id": "7acfb726",
   "metadata": {},
   "outputs": [
    {
     "data": {
      "text/plain": [
       "array([0, 2, 4, 6, 8])"
      ]
     },
     "execution_count": 13,
     "metadata": {},
     "output_type": "execute_result"
    }
   ],
   "source": [
    "np.arange(0,10,2) #(start,end,step)"
   ]
  },
  {
   "cell_type": "code",
   "execution_count": 14,
   "id": "3ecfa9d1",
   "metadata": {},
   "outputs": [
    {
     "data": {
      "text/plain": [
       "array([[0],\n",
       "       [2],\n",
       "       [4],\n",
       "       [6],\n",
       "       [8]])"
      ]
     },
     "execution_count": 14,
     "metadata": {},
     "output_type": "execute_result"
    }
   ],
   "source": [
    "np.arange(0,10,2).reshape(5,1) #(start,end,step)"
   ]
  },
  {
   "cell_type": "code",
   "execution_count": 15,
   "id": "07d60c35",
   "metadata": {},
   "outputs": [
    {
     "data": {
      "text/plain": [
       "array([[1., 1., 1., 1.],\n",
       "       [1., 1., 1., 1.],\n",
       "       [1., 1., 1., 1.]])"
      ]
     },
     "execution_count": 15,
     "metadata": {},
     "output_type": "execute_result"
    }
   ],
   "source": [
    "np.ones((3,4)) ## create 3*4 mat with all ones"
   ]
  },
  {
   "cell_type": "code",
   "execution_count": 16,
   "id": "dd4026c7",
   "metadata": {},
   "outputs": [
    {
     "data": {
      "text/plain": [
       "array([[1., 0., 0.],\n",
       "       [0., 1., 0.],\n",
       "       [0., 0., 1.]])"
      ]
     },
     "execution_count": 16,
     "metadata": {},
     "output_type": "execute_result"
    }
   ],
   "source": [
    "##identity matrix\n",
    "np.eye(3)"
   ]
  },
  {
   "cell_type": "code",
   "execution_count": 17,
   "id": "eb52cf60",
   "metadata": {},
   "outputs": [
    {
     "name": "stdout",
     "output_type": "stream",
     "text": [
      "array [[1 2 3]\n",
      " [4 5 6]]\n",
      "Shape :  (2, 3)\n",
      "number of dimension :  2\n",
      "size (number of elements ) : 6\n",
      "DatA Type :  int32\n",
      "item size (in bytes ) 4\n"
     ]
    }
   ],
   "source": [
    "arr=np.array([[1,2,3],[4,5,6]])\n",
    "print(\"array\", arr)\n",
    "print(\"Shape : \",arr.shape)\n",
    "print(\"number of dimension : \", arr.ndim) \n",
    "print(\"size (number of elements ) :\", arr.size)\n",
    "print(\"DatA Type : \", arr.dtype) ##output : int 64\n",
    "print(\"item size (in bytes )\", arr.itemsize)"
   ]
  },
  {
   "cell_type": "code",
   "execution_count": 22,
   "id": "00d19d3e",
   "metadata": {},
   "outputs": [
    {
     "name": "stdout",
     "output_type": "stream",
     "text": [
      "Addition :  [ 11  22  33 194  30]\n",
      "Multiplication [  10   40   90 6160  125]\n",
      "div [0 0 0 3 0]\n"
     ]
    }
   ],
   "source": [
    "### Numpy Vectorized Operations\n",
    "arr1=np.array([1,2,3,154,5])\n",
    "arr2=np.array([10,20,30,40,25])\n",
    "\n",
    "### Element wise addition\n",
    "print(\"Addition : \", arr1+arr2)\n",
    "\n",
    "## Element wise subtrafction\n",
    "print(\"Multiplication\" , arr1*arr2)\n",
    "\n",
    "print(\"div\",arr1//arr2)"
   ]
  },
  {
   "cell_type": "code",
   "execution_count": 23,
   "id": "4f05cf4d",
   "metadata": {},
   "outputs": [
    {
     "name": "stdout",
     "output_type": "stream",
     "text": [
      "[1.         1.41421356 1.73205081 2.         2.23606798]\n"
     ]
    }
   ],
   "source": [
    "## Universal Functions\n",
    "\n",
    "arr=np.array([1,2,3,4,5])\n",
    "\n",
    "##sq root\n",
    "print(np.sqrt(arr))"
   ]
  },
  {
   "cell_type": "code",
   "execution_count": 24,
   "id": "a0dd9551",
   "metadata": {},
   "outputs": [
    {
     "name": "stdout",
     "output_type": "stream",
     "text": [
      "[  2.71828183   7.3890561   20.08553692  54.59815003 148.4131591 ]\n"
     ]
    }
   ],
   "source": [
    "print(np.exp(arr))"
   ]
  },
  {
   "cell_type": "code",
   "execution_count": 25,
   "id": "ae07e1a1",
   "metadata": {},
   "outputs": [
    {
     "name": "stdout",
     "output_type": "stream",
     "text": [
      "[ 0.84147098  0.90929743  0.14112001 -0.7568025  -0.95892427]\n"
     ]
    }
   ],
   "source": [
    "print(np.sin(arr))"
   ]
  },
  {
   "cell_type": "code",
   "execution_count": 26,
   "id": "f3de0728",
   "metadata": {},
   "outputs": [
    {
     "name": "stdout",
     "output_type": "stream",
     "text": [
      "[0.         0.69314718 1.09861229 1.38629436 1.60943791]\n"
     ]
    }
   ],
   "source": [
    "print(np.log(arr))"
   ]
  },
  {
   "cell_type": "code",
   "execution_count": 29,
   "id": "eb2e4d12",
   "metadata": {},
   "outputs": [
    {
     "data": {
      "text/plain": [
       "array([[ 1,  2,  3,  4,  5],\n",
       "       [41, 42,  3,  4,  5],\n",
       "       [ 3,  5,  4,  2,  1]])"
      ]
     },
     "execution_count": 29,
     "metadata": {},
     "output_type": "execute_result"
    }
   ],
   "source": [
    "## Array Slicing and Indexing \n",
    "\n",
    "arr=np.array([[1,2,3,4,5],[41,42,3,4,5],[3,5,4,2,1]])\n",
    "arr\n"
   ]
  },
  {
   "cell_type": "code",
   "execution_count": 30,
   "id": "cc72fb09",
   "metadata": {},
   "outputs": [
    {
     "data": {
      "text/plain": [
       "1"
      ]
     },
     "execution_count": 30,
     "metadata": {},
     "output_type": "execute_result"
    }
   ],
   "source": [
    "arr[0][0]"
   ]
  },
  {
   "cell_type": "code",
   "execution_count": 31,
   "id": "5d79e7ab",
   "metadata": {},
   "outputs": [
    {
     "data": {
      "text/plain": [
       "array([1, 2, 3, 4, 5])"
      ]
     },
     "execution_count": 31,
     "metadata": {},
     "output_type": "execute_result"
    }
   ],
   "source": [
    "arr[0]"
   ]
  },
  {
   "cell_type": "code",
   "execution_count": 32,
   "id": "2cf3fa34",
   "metadata": {},
   "outputs": [
    {
     "data": {
      "text/plain": [
       "array([[41, 42,  3,  4,  5],\n",
       "       [ 3,  5,  4,  2,  1]])"
      ]
     },
     "execution_count": 32,
     "metadata": {},
     "output_type": "execute_result"
    }
   ],
   "source": [
    "arr[1:]"
   ]
  },
  {
   "cell_type": "code",
   "execution_count": 33,
   "id": "2e4e04ac",
   "metadata": {},
   "outputs": [
    {
     "data": {
      "text/plain": [
       "array([[3, 4, 5],\n",
       "       [4, 2, 1]])"
      ]
     },
     "execution_count": 33,
     "metadata": {},
     "output_type": "execute_result"
    }
   ],
   "source": [
    "arr[1:,2:]"
   ]
  },
  {
   "cell_type": "code",
   "execution_count": 38,
   "id": "c02bcc64",
   "metadata": {},
   "outputs": [
    {
     "name": "stdout",
     "output_type": "stream",
     "text": [
      "[[ 2  3  4  5]\n",
      " [42  3  4  5]]\n"
     ]
    }
   ],
   "source": [
    "print(arr[0:2,1:])"
   ]
  },
  {
   "cell_type": "code",
   "execution_count": 39,
   "id": "6bacc263",
   "metadata": {},
   "outputs": [
    {
     "name": "stdout",
     "output_type": "stream",
     "text": [
      "[[100   2   3   4   5]\n",
      " [ 41  42   3   4   5]\n",
      " [  3   5   4   2   1]]\n"
     ]
    }
   ],
   "source": [
    "## modify Array Elements \n",
    "arr[0,0]=100\n",
    "print(arr)"
   ]
  },
  {
   "cell_type": "code",
   "execution_count": 40,
   "id": "27f37bad",
   "metadata": {},
   "outputs": [],
   "source": [
    "arr[1:]=100"
   ]
  },
  {
   "cell_type": "code",
   "execution_count": 41,
   "id": "8e5ba5d1",
   "metadata": {},
   "outputs": [
    {
     "data": {
      "text/plain": [
       "array([[100,   2,   3,   4,   5],\n",
       "       [100, 100, 100, 100, 100],\n",
       "       [100, 100, 100, 100, 100]])"
      ]
     },
     "execution_count": 41,
     "metadata": {},
     "output_type": "execute_result"
    }
   ],
   "source": [
    "arr"
   ]
  },
  {
   "cell_type": "code",
   "execution_count": 44,
   "id": "361e133e",
   "metadata": {},
   "outputs": [
    {
     "name": "stdout",
     "output_type": "stream",
     "text": [
      "normalized data [-1.41421356 -0.70710678  0.          0.70710678  1.41421356]\n"
     ]
    }
   ],
   "source": [
    "\n",
    "## Statistical Concepts - Normalization  \n",
    "\n",
    "## to have a mean of 0 and standard deviation of 1\n",
    "\n",
    "data =np.array([1,2,3,4,5])\n",
    "\n",
    "##calculating mean and standard deviation\n",
    "std_dev=np.std(data)\n",
    "\n",
    "mean=np.mean(data)\n",
    "\n",
    "##normalized the data\n",
    "\n",
    "norm_data=(data-mean)/std_dev\n",
    "print(\"normalized data\", norm_data)"
   ]
  },
  {
   "cell_type": "code",
   "execution_count": 47,
   "id": "e1f8154f",
   "metadata": {},
   "outputs": [
    {
     "name": "stdout",
     "output_type": "stream",
     "text": [
      "mean:  3.0\n",
      "median:  3.0\n",
      "variance : 2.0\n"
     ]
    }
   ],
   "source": [
    "print('mean: ',np.mean(data))\n",
    "print(\"median: \", np.median(data))\n",
    "print(\"variance :\", np.var(data))\n"
   ]
  },
  {
   "cell_type": "code",
   "execution_count": 52,
   "id": "6fb610fd",
   "metadata": {},
   "outputs": [
    {
     "data": {
      "text/plain": [
       "array([6, 7, 8])"
      ]
     },
     "execution_count": 52,
     "metadata": {},
     "output_type": "execute_result"
    }
   ],
   "source": [
    "##Logical Operation \n",
    "\n",
    "data=np.array([1,2,3,4,5,6,7,8,9,0])\n",
    "data[(data>5) & (data <=8)]"
   ]
  },
  {
   "cell_type": "markdown",
   "id": "2b160019",
   "metadata": {},
   "source": [
    "### Assignment 5: Broadcasting\n",
    "\n",
    "1. Create a NumPy array of shape (3, 3) filled with random integers. Add a 1D array of shape (3,) to each row of the 2D array using broadcasting.\n",
    "2. Create a NumPy array of shape (4, 4) filled with random integers. Subtract a 1D array of shape (4,) from each column of the 2D array using broadcasting."
   ]
  },
  {
   "cell_type": "code",
   "execution_count": 17,
   "id": "5c39d223",
   "metadata": {},
   "outputs": [
    {
     "data": {
      "text/plain": [
       "array([[6, 2, 3],\n",
       "       [2, 3, 6],\n",
       "       [3, 8, 8]])"
      ]
     },
     "execution_count": 17,
     "metadata": {},
     "output_type": "execute_result"
    }
   ],
   "source": [
    "import numpy as np\n",
    "arr=np.random.randint(1,9,(3,3))\n",
    "arr"
   ]
  },
  {
   "cell_type": "code",
   "execution_count": 18,
   "id": "96c4c7d4",
   "metadata": {},
   "outputs": [
    {
     "name": "stdout",
     "output_type": "stream",
     "text": [
      "<class 'numpy.ndarray'>\n"
     ]
    }
   ],
   "source": [
    "entry=np.random.randint(1,6,size=(3,))\n",
    "print(type(entry))"
   ]
  },
  {
   "cell_type": "code",
   "execution_count": 20,
   "id": "cadf0abf",
   "metadata": {},
   "outputs": [
    {
     "data": {
      "text/plain": [
       "array([[10,  4,  6],\n",
       "       [ 6,  5,  9],\n",
       "       [ 7, 10, 11]])"
      ]
     },
     "execution_count": 20,
     "metadata": {},
     "output_type": "execute_result"
    }
   ],
   "source": [
    "res_rows=arr+entry\n",
    "res_rows"
   ]
  },
  {
   "cell_type": "code",
   "execution_count": 26,
   "id": "b466929c",
   "metadata": {},
   "outputs": [
    {
     "name": "stdout",
     "output_type": "stream",
     "text": [
      "[[8 6 4 8]\n",
      " [2 7 6 2]\n",
      " [5 5 1 7]\n",
      " [7 5 3 6]] [1 4 2 3]\n"
     ]
    },
    {
     "data": {
      "text/plain": [
       "array([[ 9, 10,  6, 11],\n",
       "       [ 3, 11,  8,  5],\n",
       "       [ 6,  9,  3, 10],\n",
       "       [ 8,  9,  5,  9]])"
      ]
     },
     "execution_count": 26,
     "metadata": {},
     "output_type": "execute_result"
    }
   ],
   "source": [
    "arr2=np.random.randint(1,9,(4,4))\n",
    "entry=np.random.randint(1,5,size=(4,))\n",
    "print(arr2,entry)\n",
    "arr2+entry"
   ]
  },
  {
   "cell_type": "code",
   "execution_count": null,
   "id": "220bbf01",
   "metadata": {},
   "outputs": [],
   "source": []
  }
 ],
 "metadata": {
  "kernelspec": {
   "display_name": "base",
   "language": "python",
   "name": "python3"
  },
  "language_info": {
   "codemirror_mode": {
    "name": "ipython",
    "version": 3
   },
   "file_extension": ".py",
   "mimetype": "text/x-python",
   "name": "python",
   "nbconvert_exporter": "python",
   "pygments_lexer": "ipython3",
   "version": "3.12.7"
  }
 },
 "nbformat": 4,
 "nbformat_minor": 5
}
