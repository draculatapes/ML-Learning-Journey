{
 "cells": [
  {
   "cell_type": "markdown",
   "id": "36361ec0",
   "metadata": {},
   "source": [
    "# Memory Management\n",
    "\n",
    "Memory management in python involves a comination of automatic garbage colleciton, reference counting, and various internal optimizations to efficiently mangage memory memory allocation and deallocation . Understanding these mechanisms acan help developers write more efficient and robust applications.\n",
    "1.Key Concepts in Python memory "
   ]
  },
  {
   "cell_type": "markdown",
   "id": "5f2cb8ab",
   "metadata": {},
   "source": [
    "## Reference counting "
   ]
  },
  {
   "cell_type": "markdown",
   "id": "5c000157",
   "metadata": {},
   "source": [
    "reference counting is the primary method python uses to manage memory. each object in python maintains a count of references pointing to it. when the references count drops to zero, the memory occupied by the object is deallocated."
   ]
  },
  {
   "cell_type": "code",
   "execution_count": 2,
   "id": "b0a87c36",
   "metadata": {},
   "outputs": [
    {
     "name": "stdout",
     "output_type": "stream",
     "text": [
      "2\n"
     ]
    }
   ],
   "source": [
    "import sys\n",
    "a=[]\n",
    "print(sys.getrefcount(a)) # 2 one reference from g'a' and one from getrefcount"
   ]
  },
  {
   "cell_type": "code",
   "execution_count": 6,
   "id": "87b72c14",
   "metadata": {},
   "outputs": [
    {
     "name": "stdout",
     "output_type": "stream",
     "text": [
      "3\n"
     ]
    }
   ],
   "source": [
    "b=a\n",
    "print(sys.getrefcount(a))"
   ]
  },
  {
   "cell_type": "code",
   "execution_count": 7,
   "id": "64905042",
   "metadata": {},
   "outputs": [
    {
     "name": "stdout",
     "output_type": "stream",
     "text": [
      "2\n"
     ]
    }
   ],
   "source": [
    "del b # deletes only the refernce doesn't free the memoey\n",
    "print(sys.getrefcount(a))"
   ]
  },
  {
   "cell_type": "markdown",
   "id": "bb6e5585",
   "metadata": {},
   "source": [
    "#### Garbage Collection\n",
    "python include a cyclic garbage  collector to handle reference cycles. References cycles occur when objects references each other , preventing their reference their references counts from reaching zero.\n"
   ]
  },
  {
   "cell_type": "code",
   "execution_count": 8,
   "id": "c04ae0ff",
   "metadata": {},
   "outputs": [],
   "source": [
    "import gc\n",
    "##enable gc\n",
    "\n",
    "gc.enable()"
   ]
  },
  {
   "cell_type": "code",
   "execution_count": 9,
   "id": "a2a0e2e2",
   "metadata": {},
   "outputs": [],
   "source": [
    "gc.disable()\n"
   ]
  },
  {
   "cell_type": "code",
   "execution_count": 10,
   "id": "59a7364f",
   "metadata": {},
   "outputs": [
    {
     "data": {
      "text/plain": [
       "1109"
      ]
     },
     "execution_count": 10,
     "metadata": {},
     "output_type": "execute_result"
    }
   ],
   "source": [
    "gc.collect()"
   ]
  },
  {
   "cell_type": "code",
   "execution_count": 12,
   "id": "bf6f2742",
   "metadata": {},
   "outputs": [
    {
     "name": "stdout",
     "output_type": "stream",
     "text": [
      "[{'collections': 263, 'collected': 1535, 'uncollectable': 0}, {'collections': 23, 'collected': 126, 'uncollectable': 0}, {'collections': 3, 'collected': 1183, 'uncollectable': 0}]\n"
     ]
    }
   ],
   "source": [
    "## get garbage colelction stats\n",
    "print(gc.get_stats())"
   ]
  },
  {
   "cell_type": "code",
   "execution_count": 13,
   "id": "58a5f2e4",
   "metadata": {},
   "outputs": [
    {
     "name": "stdout",
     "output_type": "stream",
     "text": [
      "[]\n"
     ]
    }
   ],
   "source": [
    "### get unreabl object\n",
    "print(gc.garbage)"
   ]
  },
  {
   "cell_type": "markdown",
   "id": "393ac1e9",
   "metadata": {},
   "source": [
    "## Memory Mangement Best Practices\n",
    "1. use local Variables: local variables have a shorter lifespan and are freed sooner than global varibale\n",
    "2. Avoid Cicular Referencess: circular reference may lead to memory leadks if not properly manages\n",
    "3. Use Generators: Generators produces items one at a time and keep one item in in memory at a time , making them memory efficientt\n",
    "4. Explicity delete Objects: use the del statement to delete variables and objects explicity \n",
    "4. Profile Memory Usage: Use memory profiling tools like tracemalloc and memory_profiler to identify memory leaks and optimize memory usage."
   ]
  },
  {
   "cell_type": "code",
   "execution_count": null,
   "id": "ed205f5f",
   "metadata": {},
   "outputs": [
    {
     "name": "stdout",
     "output_type": "stream",
     "text": [
      "Object obj1 created\n",
      "Object obj2 created\n",
      "object obj1 deleted\n",
      "object obj2 deleted\n",
      "object obj1 deleted\n",
      "object obj2 deleted\n"
     ]
    },
    {
     "data": {
      "text/plain": [
       "1241"
      ]
     },
     "execution_count": 15,
     "metadata": {},
     "output_type": "execute_result"
    }
   ],
   "source": [
    "#handeling circular refernce\n",
    "import gc\n",
    "class MyObject:\n",
    "    def __init__(self,name):\n",
    "        self.name=name\n",
    "        print(f'Object {self.name} created')\n",
    "    def __del__(self):\n",
    "        print(f\"object {self.name} deleted\")\n",
    "\n",
    "## create cicular reference\n",
    "\n",
    "obj1=MyObject('obj1')\n",
    "obj2=MyObject('obj2')\n",
    "obj1.ref=obj2\n",
    "obj2.ref=obj1\n",
    "\n",
    "del obj1\n",
    "del obj2\n",
    "\n",
    "## manually trigger the garbage colelction\n",
    "\n",
    "gc.collect()\n"
   ]
  },
  {
   "cell_type": "code",
   "execution_count": 16,
   "id": "afb07c16",
   "metadata": {},
   "outputs": [
    {
     "name": "stdout",
     "output_type": "stream",
     "text": [
      "[]\n"
     ]
    }
   ],
   "source": [
    "print(gc.garbage)"
   ]
  },
  {
   "cell_type": "code",
   "execution_count": 17,
   "id": "1b96b5c3",
   "metadata": {},
   "outputs": [
    {
     "name": "stdout",
     "output_type": "stream",
     "text": [
      "0\n",
      "1\n",
      "2\n",
      "3\n",
      "4\n",
      "5\n",
      "6\n",
      "7\n",
      "8\n",
      "9\n",
      "10\n",
      "11\n"
     ]
    }
   ],
   "source": [
    "## Generators for memory Efificinecy\n",
    "\n",
    "## Generators allow you to produce items one at a time , using memory efficiently by only keeping one item in memory at time\n",
    "\n",
    "def generate_numbers(n):\n",
    "    for i in range(n):\n",
    "        yield i\n",
    "## using the generate \n",
    "\n",
    "for num in generate_numbers(100000):\n",
    "    print(num)\n",
    "    if num>10:\n",
    "        break\n",
    "    "
   ]
  },
  {
   "cell_type": "code",
   "execution_count": 18,
   "id": "26517183",
   "metadata": {},
   "outputs": [],
   "source": [
    "## Profiling Memory Usage tracemalloc\n",
    "\n",
    "import tracemalloc\n",
    "def create_list():\n",
    "    return [i for i in range(10000)]\n",
    "def main():\n",
    "    tracemalloc.start()\n",
    "    create_list()\n",
    "    snapshot=tracemalloc.take_snapshot()\n",
    "    top_stats=snapshot.statistics('lineno')\n",
    "    print('[Top 10]')\n",
    "\n",
    "    for stat in top_stats[:10]:\n",
    "        print(stat)\n",
    "        \n"
   ]
  },
  {
   "cell_type": "code",
   "execution_count": 19,
   "id": "d76fc658",
   "metadata": {},
   "outputs": [
    {
     "name": "stdout",
     "output_type": "stream",
     "text": [
      "[Top 10]\n",
      "c:\\Users\\ak954\\anaconda3\\Lib\\tracemalloc.py:551: size=72 B, count=1, average=72 B\n",
      "C:\\Users\\ak954\\AppData\\Local\\Temp\\ipykernel_19168\\2722234819.py:4: size=72 B, count=1, average=72 B\n"
     ]
    }
   ],
   "source": [
    "main()"
   ]
  },
  {
   "cell_type": "code",
   "execution_count": null,
   "id": "4e596aed",
   "metadata": {},
   "outputs": [],
   "source": []
  }
 ],
 "metadata": {
  "kernelspec": {
   "display_name": "base",
   "language": "python",
   "name": "python3"
  },
  "language_info": {
   "codemirror_mode": {
    "name": "ipython",
    "version": 3
   },
   "file_extension": ".py",
   "mimetype": "text/x-python",
   "name": "python",
   "nbconvert_exporter": "python",
   "pygments_lexer": "ipython3",
   "version": "3.12.7"
  }
 },
 "nbformat": 4,
 "nbformat_minor": 5
}
