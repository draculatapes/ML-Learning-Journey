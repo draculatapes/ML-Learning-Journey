{
 "cells": [
  {
   "cell_type": "markdown",
   "id": "36361ec0",
   "metadata": {},
   "source": [
    "# Memory Management\n",
    "\n",
    "Memory management in python involves a comination of automatic garbage colleciton, reference counting, and various internal optimizations to efficiently mangage memory memory allocation and deallocation . Understanding these mechanisms acan help developers write more efficient and robust applications.\n",
    "1.Key Concepts in Python memory "
   ]
  },
  {
   "cell_type": "markdown",
   "id": "5f2cb8ab",
   "metadata": {},
   "source": [
    "## Reference counting "
   ]
  },
  {
   "cell_type": "markdown",
   "id": "5c000157",
   "metadata": {},
   "source": [
    "reference counting is the primary method python uses to manage memory. each object in python maintains a count of references pointing to it. when the references count drops to zero, the memory occupied by the object is deallocated."
   ]
  },
  {
   "cell_type": "code",
   "execution_count": 2,
   "id": "b0a87c36",
   "metadata": {},
   "outputs": [
    {
     "name": "stdout",
     "output_type": "stream",
     "text": [
      "2\n"
     ]
    }
   ],
   "source": [
    "import sys\n",
    "a=[]\n",
    "print(sys.getrefcount(a)) # 2 one reference from g'a' and one from getrefcount"
   ]
  },
  {
   "cell_type": "code",
   "execution_count": null,
   "id": "87b72c14",
   "metadata": {},
   "outputs": [],
   "source": [
    "4"
   ]
  }
 ],
 "metadata": {
  "kernelspec": {
   "display_name": "base",
   "language": "python",
   "name": "python3"
  },
  "language_info": {
   "codemirror_mode": {
    "name": "ipython",
    "version": 3
   },
   "file_extension": ".py",
   "mimetype": "text/x-python",
   "name": "python",
   "nbconvert_exporter": "python",
   "pygments_lexer": "ipython3",
   "version": "3.12.7"
  }
 },
 "nbformat": 4,
 "nbformat_minor": 5
}
