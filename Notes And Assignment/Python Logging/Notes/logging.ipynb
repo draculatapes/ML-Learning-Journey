{
 "cells": [
  {
   "cell_type": "markdown",
   "id": "181cf041",
   "metadata": {},
   "source": [
    "# Python Logging \n"
   ]
  },
  {
   "cell_type": "markdown",
   "id": "f58f3ae1",
   "metadata": {},
   "source": [
    "Logging is a crucial aspect fo any application, providingt a way tot track events , errors,a nd operational information. Python's built-in logging module offers a flexible framework for emitting log messages from Python programs . In this lesson , we will cover the basics of logging , including how to configure logging , log levels , and best practices for using logging in python applications."
   ]
  },
  {
   "cell_type": "code",
   "execution_count": 1,
   "id": "926060f0",
   "metadata": {},
   "outputs": [],
   "source": [
    "import logging "
   ]
  },
  {
   "cell_type": "code",
   "execution_count": 3,
   "id": "19df00b3",
   "metadata": {},
   "outputs": [
    {
     "name": "stderr",
     "output_type": "stream",
     "text": [
      "2025-09-03 22:01:08,472 - DEBUG - this is  a debug message\n",
      "2025-09-03 22:01:08,474 - INFO - this is a info message\n",
      "2025-09-03 22:01:08,475 - WARNING - This is a warning message\n",
      "2025-09-03 22:01:08,476 - ERROR - this is a errror message\n",
      "2025-09-03 22:01:08,478 - CRITICAL - this is a critical message\n"
     ]
    }
   ],
   "source": [
    "## configure the basics logging setting\n",
    "for handler in logging.root.handlers[:]:\n",
    "    logging.root.removeHandler(handler)\n",
    "logging.basicConfig(\n",
    "    level=logging.DEBUG,\n",
    "    format=\"%(asctime)s - %(levelname)s - %(message)s\"\n",
    ")\n",
    "\n",
    "## log message\n",
    "logging.debug('this is  a debug message')\n",
    "logging.info('this is a info message')\n",
    "logging.warning('This is a warning message')\n",
    "logging.error('this is a errror message')\n",
    "logging.critical('this is a critical message')"
   ]
  },
  {
   "cell_type": "markdown",
   "id": "24e550ec",
   "metadata": {},
   "source": [
    "### Pythons logging modlue has several log levels indicating the severeity of events. The defualt levels are: \n",
    "* DEBUG  : Detailed info , typically of interest only when diagnosing problems \n",
    "* Info : Confirmation That things are working as expected \n",
    "* WARNING: something expected happens of some problem near future(disk space low)\n",
    "\n",
    "* ERROR: Due to a more serious problem. the software has not been able to perform some function;\n",
    "\n",
    "* CRITICAL : A very serious error, indicating that the program itself may be unable to continue functioning\n"
   ]
  },
  {
   "cell_type": "code",
   "execution_count": 2,
   "id": "2ce1c727",
   "metadata": {},
   "outputs": [],
   "source": [
    "### configuring logging\n",
    "\n",
    "logging.basicConfig(\n",
    "    filename='app.log',\n",
    "    filemode='w',\n",
    "    level=logging.DEBUG,\n",
    "    format='%(asctime)s-%(name)s-%(levelname)s-%(message)s',\n",
    "    datefmt='%Y-%m-%d %H-%M-%S'\n",
    ")\n",
    "logging.debug('this is  a debug message')\n",
    "logging.info('this is a info message')\n",
    "logging.warning('This is a warning message')\n",
    "logging.error('this is a errror message')\n",
    "logging.critical('this is a critical message')"
   ]
  },
  {
   "cell_type": "code",
   "execution_count": null,
   "id": "f381f619",
   "metadata": {},
   "outputs": [],
   "source": []
  },
  {
   "cell_type": "code",
   "execution_count": null,
   "id": "a6265796",
   "metadata": {},
   "outputs": [],
   "source": []
  }
 ],
 "metadata": {
  "kernelspec": {
   "display_name": "base",
   "language": "python",
   "name": "python3"
  },
  "language_info": {
   "codemirror_mode": {
    "name": "ipython",
    "version": 3
   },
   "file_extension": ".py",
   "mimetype": "text/x-python",
   "name": "python",
   "nbconvert_exporter": "python",
   "pygments_lexer": "ipython3",
   "version": "3.12.7"
  }
 },
 "nbformat": 4,
 "nbformat_minor": 5
}
