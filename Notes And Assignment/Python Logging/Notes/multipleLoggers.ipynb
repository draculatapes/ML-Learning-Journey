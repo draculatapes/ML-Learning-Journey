{
 "cells": [
  {
   "cell_type": "code",
   "execution_count": 1,
   "id": "d612b9c7",
   "metadata": {},
   "outputs": [],
   "source": [
    "## we can create multiple loggers for different parts of our application\n",
    "import logging\n",
    "\n",
    "## create alogger for module 1\n",
    "\n",
    "logger1=logging.getLogger('module1')\n",
    "logger1.setLevel(logging.DEBUG)\n",
    "\n",
    "\n",
    "## create a logger for module 2\n",
    "\n",
    "logger2=logging.getLogger('module2')\n",
    "logger2.setLevel(logging.WARNING)\n",
    "\n",
    "logging.basicConfig(\n",
    "    level=logging.DEBUG,\n",
    "    format=\"%(asctime)s - %(levelname)s - %(message)s\"\n",
    ")\n",
    "\n"
   ]
  },
  {
   "cell_type": "code",
   "execution_count": 2,
   "id": "1b88f6bb",
   "metadata": {},
   "outputs": [
    {
     "name": "stderr",
     "output_type": "stream",
     "text": [
      "2025-09-03 22:47:37,883 - DEBUG - this is a debug message for module1\n",
      "2025-09-03 22:47:37,886 - WARNING - this is a warning message for moudle2\n",
      "2025-09-03 22:47:37,887 - ERROR - this is an error message\n"
     ]
    }
   ],
   "source": [
    "## log messaages with different logggers\n",
    "\n",
    "logger1.debug('this is a debug message for module1')\n",
    "\n",
    "logger2.warning('this is a warning message for moudle2')\n",
    "logger2.error('this is an error message')"
   ]
  },
  {
   "cell_type": "code",
   "execution_count": null,
   "id": "8d06f0e5",
   "metadata": {},
   "outputs": [],
   "source": []
  }
 ],
 "metadata": {
  "kernelspec": {
   "display_name": "base",
   "language": "python",
   "name": "python3"
  },
  "language_info": {
   "codemirror_mode": {
    "name": "ipython",
    "version": 3
   },
   "file_extension": ".py",
   "mimetype": "text/x-python",
   "name": "python",
   "nbconvert_exporter": "python",
   "pygments_lexer": "ipython3",
   "version": "3.12.7"
  }
 },
 "nbformat": 4,
 "nbformat_minor": 5
}
