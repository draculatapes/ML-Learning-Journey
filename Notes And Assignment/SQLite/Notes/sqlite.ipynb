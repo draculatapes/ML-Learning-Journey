{
 "cells": [
  {
   "cell_type": "markdown",
   "id": "2406e150",
   "metadata": {},
   "source": [
    "# SQL and SQLite\n"
   ]
  },
  {
   "cell_type": "markdown",
   "id": "0dce2112",
   "metadata": {},
   "source": [
    "SQL(structured query language) is a standard language for managing and manipulating raltional databases , SQLite is a self-contained , serverless, and zero-configuration databases engine that is widely used for embedded database systems. "
   ]
  },
  {
   "cell_type": "code",
   "execution_count": 1,
   "id": "2cf4cf22",
   "metadata": {},
   "outputs": [],
   "source": [
    "import sqlite3"
   ]
  },
  {
   "cell_type": "code",
   "execution_count": 2,
   "id": "9e7bfc33",
   "metadata": {},
   "outputs": [
    {
     "data": {
      "text/plain": [
       "<sqlite3.Connection at 0x20555c3b5b0>"
      ]
     },
     "execution_count": 2,
     "metadata": {},
     "output_type": "execute_result"
    }
   ],
   "source": [
    "##connect to an SQLite database\n",
    "connection=sqlite3.connect('example.db')\n",
    "connection"
   ]
  },
  {
   "cell_type": "code",
   "execution_count": 3,
   "id": "df39253b",
   "metadata": {},
   "outputs": [],
   "source": [
    "cursor=connection.cursor()"
   ]
  },
  {
   "cell_type": "code",
   "execution_count": null,
   "id": "e67ecd3b",
   "metadata": {},
   "outputs": [],
   "source": [
    "## create a table\n",
    "cursor.execute('''\n",
    "Create Table If Not Exists employees (id Integer Primary Key, name Text Not Null,\n",
    "age Integer,\n",
    "department text\n",
    ")\n",
    "''')\n",
    "## commmit the cahgne \n",
    "connection.commit()"
   ]
  },
  {
   "cell_type": "code",
   "execution_count": 7,
   "id": "3054ea88",
   "metadata": {},
   "outputs": [
    {
     "data": {
      "text/plain": [
       "<sqlite3.Cursor at 0x20555d233c0>"
      ]
     },
     "execution_count": 7,
     "metadata": {},
     "output_type": "execute_result"
    }
   ],
   "source": [
    "cursor.execute('''\n",
    "Select * from employees\n",
    "''')"
   ]
  },
  {
   "cell_type": "code",
   "execution_count": 11,
   "id": "ef5c0bd2",
   "metadata": {},
   "outputs": [],
   "source": [
    "## Insert the data in sqlite table\n",
    "cursor.execute('''\n",
    "Insert Into employees (name,age,department) values('amar',23,'cse')\n",
    "               \n",
    "''')\n",
    "cursor.execute('''\n",
    "Insert Into employees (name,age,department) values('akaash',23,'cse')\n",
    "               \n",
    "''')\n",
    "cursor.execute('''\n",
    "Insert Into employees (name,age,department) values('ravi',23,'cse')\n",
    "               \n",
    "''')\n",
    "\n",
    "## commit the chages \n",
    "connection.commit()"
   ]
  },
  {
   "cell_type": "code",
   "execution_count": 12,
   "id": "7d56ab58",
   "metadata": {},
   "outputs": [
    {
     "name": "stdout",
     "output_type": "stream",
     "text": [
      "(1, 'amar', 23, 'cse')\n",
      "(2, 'akaash', 23, 'cse')\n",
      "(3, 'ravi', 23, 'cse')\n",
      "(4, 'amar', 23, 'cse')\n",
      "(5, 'akaash', 23, 'cse')\n",
      "(6, 'ravi', 23, 'cse')\n",
      "(7, 'amar', 23, 'cse')\n",
      "(8, 'akaash', 23, 'cse')\n",
      "(9, 'ravi', 23, 'cse')\n"
     ]
    }
   ],
   "source": [
    "## Qerying the data from sqlite itself\n",
    "\n",
    "cursor.execute('Select * from employees ')\n",
    "rows=cursor.fetchall()\n",
    "\n",
    "## printing the qeruy data\n",
    "for row in rows:\n",
    "    print(row)"
   ]
  },
  {
   "cell_type": "code",
   "execution_count": 14,
   "id": "d75e5c75",
   "metadata": {},
   "outputs": [],
   "source": [
    "## updata the data into table\n",
    "\n",
    "cursor.execute('''\n",
    "UPDATE employees \n",
    "    Set age=34 where name='ravi'\n",
    "''')\n",
    "connection.commit()"
   ]
  },
  {
   "cell_type": "code",
   "execution_count": 15,
   "id": "c12e2bbc",
   "metadata": {},
   "outputs": [
    {
     "name": "stdout",
     "output_type": "stream",
     "text": [
      "(1, 'amar', 23, 'cse')\n",
      "(2, 'akaash', 23, 'cse')\n",
      "(3, 'ravi', 34, 'cse')\n",
      "(4, 'amar', 23, 'cse')\n",
      "(5, 'akaash', 23, 'cse')\n",
      "(6, 'ravi', 34, 'cse')\n",
      "(7, 'amar', 23, 'cse')\n",
      "(8, 'akaash', 23, 'cse')\n",
      "(9, 'ravi', 34, 'cse')\n"
     ]
    }
   ],
   "source": [
    "cursor.execute('Select * from employees ')\n",
    "rows=cursor.fetchall()\n",
    "\n",
    "## printing the qeruy data\n",
    "for row in rows:\n",
    "    print(row)"
   ]
  },
  {
   "cell_type": "code",
   "execution_count": 18,
   "id": "2fcdf816",
   "metadata": {},
   "outputs": [],
   "source": [
    "## Delete the data from table\n",
    "\n",
    "cursor.execute('''\n",
    "DELEte from employees where name='akaash'\n",
    "''')\n",
    "connection.commit()"
   ]
  },
  {
   "cell_type": "code",
   "execution_count": 19,
   "id": "5b77a9b0",
   "metadata": {},
   "outputs": [
    {
     "name": "stdout",
     "output_type": "stream",
     "text": [
      "(1, 'amar', 23, 'cse')\n",
      "(3, 'ravi', 34, 'cse')\n",
      "(4, 'amar', 23, 'cse')\n",
      "(6, 'ravi', 34, 'cse')\n",
      "(7, 'amar', 23, 'cse')\n",
      "(9, 'ravi', 34, 'cse')\n"
     ]
    }
   ],
   "source": [
    "cursor.execute('Select * from employees ')\n",
    "rows=cursor.fetchall()\n",
    "\n",
    "## printing the qeruy data\n",
    "for row in rows:\n",
    "    print(row)"
   ]
  },
  {
   "cell_type": "code",
   "execution_count": 23,
   "id": "c50d13c0",
   "metadata": {},
   "outputs": [],
   "source": [
    "## bulk insertion\n",
    "\n",
    "cursor.execute('''\n",
    "Create Table If Not exists sales( date DATE not null, category TEXT NOT NULL , count Integer, region TEXT )\n",
    "''')\n",
    "sales_data=[\n",
    "    ('2023-01-01','Product1',100,'South'),\n",
    "    ('2023-01-02','Product5',400,'North'),\n",
    "    ('2023-01-03','Product3',200,'East'),\n",
    "    ('2023-01-05','Product2',500,'North'),\n",
    "    ('2023-01-04','Product1',100,'South'),\n",
    "]\n",
    "\n",
    "cursor.executemany('''\n",
    "Insert into sales(date, category,count,region)\n",
    "                   values(?,?,?,?)\n",
    "\n",
    "''',sales_data)\n",
    "connection.commit()\n"
   ]
  },
  {
   "cell_type": "code",
   "execution_count": 24,
   "id": "78aec2a1",
   "metadata": {},
   "outputs": [
    {
     "name": "stdout",
     "output_type": "stream",
     "text": [
      "('2023-01-01', 'Product1', 100, 'South')\n",
      "('2023-01-02', 'Product5', 400, 'North')\n",
      "('2023-01-03', 'Product3', 200, 'East')\n",
      "('2023-01-05', 'Product2', 500, 'North')\n",
      "('2023-01-04', 'Product1', 100, 'South')\n",
      "('2023-01-01', 'Product1', 100, 'South')\n",
      "('2023-01-02', 'Product5', 400, 'North')\n",
      "('2023-01-03', 'Product3', 200, 'East')\n",
      "('2023-01-05', 'Product2', 500, 'North')\n",
      "('2023-01-04', 'Product1', 100, 'South')\n"
     ]
    }
   ],
   "source": [
    "cursor.execute('Select * from sales ')\n",
    "rows=cursor.fetchall()\n",
    "\n",
    "## printing the qeruy data\n",
    "for row in rows:\n",
    "    print(row)"
   ]
  },
  {
   "cell_type": "code",
   "execution_count": 25,
   "id": "bf70df26",
   "metadata": {},
   "outputs": [
    {
     "ename": "ProgrammingError",
     "evalue": "Cannot operate on a closed database.",
     "output_type": "error",
     "traceback": [
      "\u001b[1;31m---------------------------------------------------------------------------\u001b[0m",
      "\u001b[1;31mProgrammingError\u001b[0m                          Traceback (most recent call last)",
      "Cell \u001b[1;32mIn[25], line 3\u001b[0m\n\u001b[0;32m      1\u001b[0m \u001b[38;5;66;03m## close the connection\u001b[39;00m\n\u001b[0;32m      2\u001b[0m connection\u001b[38;5;241m.\u001b[39mclose()\n\u001b[1;32m----> 3\u001b[0m cursor\u001b[38;5;241m.\u001b[39mexecute(\u001b[38;5;124m'\u001b[39m\u001b[38;5;124mSelect * from sales \u001b[39m\u001b[38;5;124m'\u001b[39m)\n\u001b[0;32m      4\u001b[0m rows\u001b[38;5;241m=\u001b[39mcursor\u001b[38;5;241m.\u001b[39mfetchall()\n\u001b[0;32m      6\u001b[0m \u001b[38;5;66;03m## printing the qeruy data\u001b[39;00m\n",
      "\u001b[1;31mProgrammingError\u001b[0m: Cannot operate on a closed database."
     ]
    }
   ],
   "source": [
    "## close the connection\n",
    "connection.close()\n",
    "cursor.execute('Select * from sales ')\n",
    "rows=cursor.fetchall()\n",
    "\n",
    "## printing the qeruy data\n",
    "for row in rows:\n",
    "    print(row)"
   ]
  },
  {
   "cell_type": "code",
   "execution_count": null,
   "id": "1d6813ef",
   "metadata": {},
   "outputs": [],
   "source": []
  }
 ],
 "metadata": {
  "kernelspec": {
   "display_name": "base",
   "language": "python",
   "name": "python3"
  },
  "language_info": {
   "codemirror_mode": {
    "name": "ipython",
    "version": 3
   },
   "file_extension": ".py",
   "mimetype": "text/x-python",
   "name": "python",
   "nbconvert_exporter": "python",
   "pygments_lexer": "ipython3",
   "version": "3.12.7"
  }
 },
 "nbformat": 4,
 "nbformat_minor": 5
}
