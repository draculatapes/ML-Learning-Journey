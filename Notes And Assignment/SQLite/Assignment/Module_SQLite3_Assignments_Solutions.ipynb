{
 "cells": [
  {
   "cell_type": "markdown",
   "id": "ac22e988",
   "metadata": {},
   "source": [
    "### Assignment 1: Creating and Connecting to a Database\n",
    "\n",
    "1. Write a Python function to create a new SQLite3 database named `test.db`.\n",
    "2. Write a Python function to create a table named `employees` with columns `id` (integer), `name` (text), `age` (integer), and `department` (text) in the `test.db` database."
   ]
  },
  {
   "cell_type": "markdown",
   "id": "33eaba9c",
   "metadata": {},
   "source": [
    "import sqlite"
   ]
  }
 ],
 "metadata": {
  "language_info": {
   "name": "python"
  }
 },
 "nbformat": 4,
 "nbformat_minor": 5
}
