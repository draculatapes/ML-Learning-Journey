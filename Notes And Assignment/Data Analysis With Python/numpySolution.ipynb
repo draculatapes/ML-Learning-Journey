{
 "cells": [
  {
   "cell_type": "markdown",
   "id": "fc195bc1",
   "metadata": {},
   "source": [
    "### Assignment 1: Array Creation and Manipulation\n",
    "\n",
    "1. Create a NumPy array of shape (5, 5) filled with random integers between 1 and 20. Replace all the elements in the third column with 1.\n",
    "2. Create a NumPy array of shape (4, 4) with values from 1 to 16. Replace the diagonal elements with 0."
   ]
  },
  {
   "cell_type": "code",
   "execution_count": 4,
   "id": "3f2d146b",
   "metadata": {},
   "outputs": [],
   "source": [
    "import numpy as np\n",
    "import random \n"
   ]
  },
  {
   "cell_type": "code",
   "execution_count": 8,
   "id": "983c204d",
   "metadata": {},
   "outputs": [
    {
     "name": "stdout",
     "output_type": "stream",
     "text": [
      "[[ 3 20 14 12  4]\n",
      " [15  5 17  9 12]\n",
      " [ 5  6 17 19 20]\n",
      " [10 15 19 20  9]\n",
      " [14  9  8  6 13]]\n"
     ]
    }
   ],
   "source": [
    "arr=np.array([random.randint(1,20) for _ in range(25)]).reshape(5,5)\n",
    "print(arr)"
   ]
  },
  {
   "cell_type": "code",
   "execution_count": 12,
   "id": "56053fe7",
   "metadata": {},
   "outputs": [
    {
     "data": {
      "text/plain": [
       "array([[ 3, 20,  1, 12,  4],\n",
       "       [15,  5,  1,  9, 12],\n",
       "       [ 5,  6,  1, 19, 20],\n",
       "       [10, 15,  1, 20,  9],\n",
       "       [14,  9,  1,  6, 13]])"
      ]
     },
     "execution_count": 12,
     "metadata": {},
     "output_type": "execute_result"
    }
   ],
   "source": [
    "arr[:, 2] = 1\n",
    "arr"
   ]
  },
  {
   "cell_type": "code",
   "execution_count": 14,
   "id": "259cf37f",
   "metadata": {},
   "outputs": [
    {
     "data": {
      "text/plain": [
       "array([[ 0, 20,  1, 12,  4],\n",
       "       [15,  0,  1,  9, 12],\n",
       "       [ 5,  6,  0, 19, 20],\n",
       "       [10, 15,  1,  0,  9],\n",
       "       [14,  9,  1,  6,  0]])"
      ]
     },
     "execution_count": 14,
     "metadata": {},
     "output_type": "execute_result"
    }
   ],
   "source": [
    "np.fill_diagonal(arr,0)\n",
    "arr"
   ]
  },
  {
   "cell_type": "markdown",
   "id": "a25145f0",
   "metadata": {},
   "source": [
    "### Assignment 2: Array Indexing and Slicing\n",
    "\n",
    "1. Create a NumPy array of shape (6, 6) with values from 1 to 36. Extract the sub-array consisting of the 3rd to 5th rows and 2nd to 4th columns.\n",
    "2. Create a NumPy array of shape (5, 5) with random integers. Extract the elements on the border."
   ]
  },
  {
   "cell_type": "code",
   "execution_count": 18,
   "id": "30c1a76e",
   "metadata": {},
   "outputs": [
    {
     "data": {
      "text/plain": [
       "array([[26, 23, 25, 13,  1, 35],\n",
       "       [13,  3, 23, 31, 16, 32],\n",
       "       [22, 25,  2,  5, 21, 35],\n",
       "       [17, 14,  1, 17,  8, 21],\n",
       "       [23,  6, 26, 22, 25, 25],\n",
       "       [34, 12, 29,  3, 19, 34]])"
      ]
     },
     "execution_count": 18,
     "metadata": {},
     "output_type": "execute_result"
    }
   ],
   "source": [
    "arr=np.random.randint(1,36,(6,6))\n",
    "arr"
   ]
  },
  {
   "cell_type": "code",
   "execution_count": 19,
   "id": "bc04233a",
   "metadata": {},
   "outputs": [
    {
     "data": {
      "text/plain": [
       "array([[25,  2,  5],\n",
       "       [14,  1, 17],\n",
       "       [ 6, 26, 22]])"
      ]
     },
     "execution_count": 19,
     "metadata": {},
     "output_type": "execute_result"
    }
   ],
   "source": [
    "arr[2:5,1:4]"
   ]
  },
  {
   "cell_type": "code",
   "execution_count": 20,
   "id": "122ea53a",
   "metadata": {},
   "outputs": [],
   "source": [
    "## 2\n",
    "arr2=np.random.randint(1,25,(5,5))"
   ]
  },
  {
   "cell_type": "code",
   "execution_count": 23,
   "id": "6ca120ab",
   "metadata": {},
   "outputs": [
    {
     "data": {
      "text/plain": [
       "array([26, 13, 22, 17, 23, 34, 26, 23, 25, 13,  1, 35, 35, 32, 35, 21, 25,\n",
       "       34, 34, 12, 29,  3, 19, 34])"
      ]
     },
     "execution_count": 23,
     "metadata": {},
     "output_type": "execute_result"
    }
   ],
   "source": [
    "border_ele=np.concatenate((arr[:,0],arr[0,:],arr[:,-1],arr[-1,:]))\n",
    "border_ele"
   ]
  },
  {
   "cell_type": "markdown",
   "id": "bf0ad919",
   "metadata": {},
   "source": [
    "### Assignment 3: Array Operations\n",
    "\n",
    "1. Create two NumPy arrays of shape (3, 4) filled with random integers. Perform element-wise addition, subtraction, multiplication, and division.\n",
    "2. Create a NumPy array of shape (4, 4) with values from 1 to 16. Compute the row-wise and column-wise sum.\n"
   ]
  },
  {
   "cell_type": "code",
   "execution_count": 29,
   "id": "a7aac2d2",
   "metadata": {},
   "outputs": [
    {
     "data": {
      "text/plain": [
       "array([[ 2,  7, 10, 13],\n",
       "       [ 5, 14, 19,  7],\n",
       "       [15,  9,  6, 15],\n",
       "       [ 6, 18, 18, 17]])"
      ]
     },
     "execution_count": 29,
     "metadata": {},
     "output_type": "execute_result"
    }
   ],
   "source": [
    "rans=[random.randint(1,19) for _ in range(16)]\n",
    "arr1=np.array(rans).reshape(4,4)\n",
    "arr1"
   ]
  },
  {
   "cell_type": "code",
   "execution_count": 30,
   "id": "8600392f",
   "metadata": {},
   "outputs": [
    {
     "data": {
      "text/plain": [
       "array([[13, 20, 16, 14],\n",
       "       [22,  2, 22, 16],\n",
       "       [19,  2,  3,  2],\n",
       "       [18, 11,  3, 16]])"
      ]
     },
     "execution_count": 30,
     "metadata": {},
     "output_type": "execute_result"
    }
   ],
   "source": [
    "arr2=np.random.randint(1,23,(4,4))\n",
    "arr2"
   ]
  },
  {
   "cell_type": "code",
   "execution_count": 31,
   "id": "4fd3dfbe",
   "metadata": {},
   "outputs": [
    {
     "data": {
      "text/plain": [
       "array([[15, 27, 26, 27],\n",
       "       [27, 16, 41, 23],\n",
       "       [34, 11,  9, 17],\n",
       "       [24, 29, 21, 33]])"
      ]
     },
     "execution_count": 31,
     "metadata": {},
     "output_type": "execute_result"
    }
   ],
   "source": [
    "arr1+arr2"
   ]
  },
  {
   "cell_type": "code",
   "execution_count": 32,
   "id": "00223e83",
   "metadata": {},
   "outputs": [
    {
     "data": {
      "text/plain": [
       "array([[ 26, 140, 160, 182],\n",
       "       [110,  28, 418, 112],\n",
       "       [285,  18,  18,  30],\n",
       "       [108, 198,  54, 272]])"
      ]
     },
     "execution_count": 32,
     "metadata": {},
     "output_type": "execute_result"
    }
   ],
   "source": [
    "arr1*arr2"
   ]
  },
  {
   "cell_type": "code",
   "execution_count": 33,
   "id": "9f124316",
   "metadata": {},
   "outputs": [
    {
     "data": {
      "text/plain": [
       "array([[0.15384615, 0.35      , 0.625     , 0.92857143],\n",
       "       [0.22727273, 7.        , 0.86363636, 0.4375    ],\n",
       "       [0.78947368, 4.5       , 2.        , 7.5       ],\n",
       "       [0.33333333, 1.63636364, 6.        , 1.0625    ]])"
      ]
     },
     "execution_count": 33,
     "metadata": {},
     "output_type": "execute_result"
    }
   ],
   "source": [
    "arr1/arr2\n"
   ]
  },
  {
   "cell_type": "code",
   "execution_count": 34,
   "id": "e1cba706",
   "metadata": {},
   "outputs": [
    {
     "data": {
      "text/plain": [
       "array([[0, 0, 0, 0],\n",
       "       [0, 7, 0, 0],\n",
       "       [0, 4, 2, 7],\n",
       "       [0, 1, 6, 1]])"
      ]
     },
     "execution_count": 34,
     "metadata": {},
     "output_type": "execute_result"
    }
   ],
   "source": [
    "arr1//arr2"
   ]
  },
  {
   "cell_type": "code",
   "execution_count": 35,
   "id": "ba39665b",
   "metadata": {},
   "outputs": [
    {
     "data": {
      "text/plain": [
       "array([[ 8,  9, 14,  5],\n",
       "       [ 6, 10,  6,  2],\n",
       "       [ 3,  5,  1, 11],\n",
       "       [ 7,  5,  5, 10]])"
      ]
     },
     "execution_count": 35,
     "metadata": {},
     "output_type": "execute_result"
    }
   ],
   "source": [
    "arr2=np.random.randint(1,16,(4,4))\n",
    "arr2"
   ]
  },
  {
   "cell_type": "code",
   "execution_count": 38,
   "id": "c0b9f6f6",
   "metadata": {},
   "outputs": [
    {
     "data": {
      "text/plain": [
       "[36, 24, 20, 27]"
      ]
     },
     "execution_count": 38,
     "metadata": {},
     "output_type": "execute_result"
    }
   ],
   "source": [
    "## rowise sum\n",
    "sumi= map(sum,(arr2[i,:] for i in range(len(arr2))))\n",
    "list(sumi)\n"
   ]
  },
  {
   "cell_type": "code",
   "execution_count": 40,
   "id": "be82e694",
   "metadata": {},
   "outputs": [
    {
     "data": {
      "text/plain": [
       "array([36, 24, 20, 27])"
      ]
     },
     "execution_count": 40,
     "metadata": {},
     "output_type": "execute_result"
    }
   ],
   "source": [
    "np.sum(arr2,axis=1)"
   ]
  },
  {
   "cell_type": "code",
   "execution_count": 41,
   "id": "a9cc7b9d",
   "metadata": {},
   "outputs": [
    {
     "data": {
      "text/plain": [
       "array([135,  83, 106,  91,  90, 182])"
      ]
     },
     "execution_count": 41,
     "metadata": {},
     "output_type": "execute_result"
    }
   ],
   "source": [
    "np.sum(arr,axis=0)"
   ]
  },
  {
   "cell_type": "markdown",
   "id": "5912a7b1",
   "metadata": {},
   "source": [
    "### Assignment 4: Statistical Operations\n",
    "\n",
    "1. Create a NumPy array of shape (5, 5) filled with random integers. Compute the mean, median, standard deviation, and variance of the array.\n",
    "2. Create a NumPy array of shape (3, 3) with values from 1 to 9. Normalize the array (i.e., scale the values to have a mean of 0 and a standard deviation of 1)."
   ]
  },
  {
   "cell_type": "code",
   "execution_count": 42,
   "id": "75173454",
   "metadata": {},
   "outputs": [
    {
     "data": {
      "text/plain": [
       "19.083333333333332"
      ]
     },
     "execution_count": 42,
     "metadata": {},
     "output_type": "execute_result"
    }
   ],
   "source": [
    "arr1=np.random.randint(1,24,(5,5))\n",
    "np.mean(arr)\n"
   ]
  },
  {
   "cell_type": "code",
   "execution_count": 43,
   "id": "0f21dfc2",
   "metadata": {},
   "outputs": [
    {
     "data": {
      "text/plain": [
       "10.258803807245537"
      ]
     },
     "execution_count": 43,
     "metadata": {},
     "output_type": "execute_result"
    }
   ],
   "source": [
    "np.std(arr)"
   ]
  },
  {
   "cell_type": "code",
   "execution_count": 44,
   "id": "8cf814fc",
   "metadata": {},
   "outputs": [
    {
     "data": {
      "text/plain": [
       "21.5"
      ]
     },
     "execution_count": 44,
     "metadata": {},
     "output_type": "execute_result"
    }
   ],
   "source": [
    "np.median(arr)"
   ]
  },
  {
   "cell_type": "code",
   "execution_count": 45,
   "id": "dfec039e",
   "metadata": {},
   "outputs": [
    {
     "data": {
      "text/plain": [
       "105.24305555555553"
      ]
     },
     "execution_count": 45,
     "metadata": {},
     "output_type": "execute_result"
    }
   ],
   "source": [
    "np.var(arr)"
   ]
  },
  {
   "cell_type": "code",
   "execution_count": 56,
   "id": "3fd27eeb",
   "metadata": {},
   "outputs": [
    {
     "data": {
      "text/plain": [
       "array([[4, 2, 1],\n",
       "       [8, 3, 4],\n",
       "       [4, 5, 3]])"
      ]
     },
     "execution_count": 56,
     "metadata": {},
     "output_type": "execute_result"
    }
   ],
   "source": [
    "### normalizat5ion\n",
    "\n",
    "arr1=np.random.randint(1,9,(3,3))\n",
    "arr1"
   ]
  },
  {
   "cell_type": "code",
   "execution_count": 57,
   "id": "17a99c8f",
   "metadata": {},
   "outputs": [
    {
     "data": {
      "text/plain": [
       "3.7777777777777777"
      ]
     },
     "execution_count": 57,
     "metadata": {},
     "output_type": "execute_result"
    }
   ],
   "source": [
    "np.mean(arr1)"
   ]
  },
  {
   "cell_type": "code",
   "execution_count": 58,
   "id": "132e623d",
   "metadata": {},
   "outputs": [
    {
     "data": {
      "text/plain": [
       "1.872477727372524"
      ]
     },
     "execution_count": 58,
     "metadata": {},
     "output_type": "execute_result"
    }
   ],
   "source": [
    "np.std(arr1)"
   ]
  },
  {
   "cell_type": "code",
   "execution_count": 62,
   "id": "e00ced73",
   "metadata": {},
   "outputs": [
    {
     "name": "stdout",
     "output_type": "stream",
     "text": [
      "[[4 2 1]\n",
      " [8 3 4]\n",
      " [4 5 3]]\n",
      "[[ 0.11867817 -0.94942533 -1.48347707]\n",
      " [ 2.25488515 -0.41537358  0.11867817]\n",
      " [ 0.11867817  0.65272991 -0.41537358]]\n",
      "4.9343245538895844e-17\n"
     ]
    },
    {
     "data": {
      "text/plain": [
       "1.0000000000000002"
      ]
     },
     "execution_count": 62,
     "metadata": {},
     "output_type": "execute_result"
    }
   ],
   "source": [
    "print(arr1)\n",
    "zscore=(arr1-np.mean(arr1))/(np.std(arr1))\n",
    "print(zscore)\n",
    "print(zscore.mean())\n",
    "zscore.std()\n",
    "\n"
   ]
  },
  {
   "cell_type": "markdown",
   "id": "ef65f044",
   "metadata": {},
   "source": [
    "### Assignment 6: Linear Algebra\n",
    "\n",
    "1. Create a NumPy array of shape (3, 3) representing a matrix. Compute its determinant, inverse, and eigenvalues.\n",
    "2. Create two NumPy arrays of shape (2, 3) and (3, 2). Perform matrix multiplication on these arrays.\n"
   ]
  },
  {
   "cell_type": "code",
   "execution_count": 63,
   "id": "d4f0d366",
   "metadata": {},
   "outputs": [
    {
     "name": "stdout",
     "output_type": "stream",
     "text": [
      "[[-0.02056743  0.00080228  0.03318503]\n",
      " [ 0.03836336 -0.01568084 -0.01225294]\n",
      " [-0.00279581  0.02965988 -0.01558359]] 41133.00000000004\n"
     ]
    }
   ],
   "source": [
    "arr=np.random.randint(1,55,(3,3))\n",
    "inverse=np.linalg.inv(arr)\n",
    "det_A=np.linalg.det(arr)\n",
    "print(inverse,det_A)\n"
   ]
  },
  {
   "cell_type": "code",
   "execution_count": 64,
   "id": "7c578fe2",
   "metadata": {},
   "outputs": [],
   "source": [
    "egvalue,eigvector=np.linalg.eig(arr)"
   ]
  },
  {
   "cell_type": "code",
   "execution_count": 65,
   "id": "145bd3ee",
   "metadata": {},
   "outputs": [
    {
     "data": {
      "text/plain": [
       "(array([ 84.84300392 +0.j       , -15.42150196+15.7159276j,\n",
       "        -15.42150196-15.7159276j]),\n",
       " array([[ 0.59229265+0.j       ,  0.35790927+0.389308j ,\n",
       "          0.35790927-0.389308j ],\n",
       "        [ 0.57586106+0.j       , -0.64272806+0.j       ,\n",
       "         -0.64272806-0.j       ],\n",
       "        [ 0.56353656+0.j       ,  0.27458496-0.4815018j,\n",
       "          0.27458496+0.4815018j]]))"
      ]
     },
     "execution_count": 65,
     "metadata": {},
     "output_type": "execute_result"
    }
   ],
   "source": [
    "egvalue,eigvector"
   ]
  },
  {
   "cell_type": "code",
   "execution_count": 66,
   "id": "cf3b682c",
   "metadata": {},
   "outputs": [],
   "source": [
    "## matrix multiplication "
   ]
  },
  {
   "cell_type": "code",
   "execution_count": 67,
   "id": "70b255c9",
   "metadata": {},
   "outputs": [
    {
     "data": {
      "text/plain": [
       "array([[34, 40],\n",
       "       [32, 40]])"
      ]
     },
     "execution_count": 67,
     "metadata": {},
     "output_type": "execute_result"
    }
   ],
   "source": [
    "A=np.random.randint(1,5,(2,3))\n",
    "B=np.random.randint(2,5,(3,2))\n",
    "A @ B"
   ]
  },
  {
   "cell_type": "markdown",
   "id": "71efe16e",
   "metadata": {},
   "source": [
    "### Assignment 7: Advanced Array Manipulation\n",
    "\n",
    "1. Create a NumPy array of shape (3, 3) with values from 1 to 9. Reshape the array to shape (1, 9) and then to shape (9, 1).\n",
    "2. Create a NumPy array of shape (5, 5) filled with random integers. Flatten the array and then reshape it back to (5, 5)."
   ]
  },
  {
   "cell_type": "code",
   "execution_count": 68,
   "id": "8ebcf2c5",
   "metadata": {},
   "outputs": [
    {
     "data": {
      "text/plain": [
       "array([[8, 1, 2, 8, 8, 7, 2, 5, 2]])"
      ]
     },
     "execution_count": 68,
     "metadata": {},
     "output_type": "execute_result"
    }
   ],
   "source": [
    "arr=np.random.randint(1,9,(3,3)).reshape(1,9)\n",
    "arr"
   ]
  },
  {
   "cell_type": "code",
   "execution_count": 69,
   "id": "012c2d3a",
   "metadata": {},
   "outputs": [
    {
     "data": {
      "text/plain": [
       "array([[8],\n",
       "       [1],\n",
       "       [2],\n",
       "       [8],\n",
       "       [8],\n",
       "       [7],\n",
       "       [2],\n",
       "       [5],\n",
       "       [2]])"
      ]
     },
     "execution_count": 69,
     "metadata": {},
     "output_type": "execute_result"
    }
   ],
   "source": [
    "arr.reshape(9,1)"
   ]
  },
  {
   "cell_type": "code",
   "execution_count": 71,
   "id": "c4f8d599",
   "metadata": {},
   "outputs": [
    {
     "data": {
      "text/plain": [
       "array([121, 535, 354,  79, 326, 154, 430, 385, 588,  22, 386, 615, 468,\n",
       "        11, 502, 131, 575, 558, 326, 347, 123, 555, 242,  98, 181])"
      ]
     },
     "execution_count": 71,
     "metadata": {},
     "output_type": "execute_result"
    }
   ],
   "source": [
    "arr=np.random.randint(1,645,(5,5)).reshape(-1)\n",
    "arr"
   ]
  },
  {
   "cell_type": "markdown",
   "id": "41f508d6",
   "metadata": {},
   "source": [
    "### Assignment 8: Fancy Indexing and Boolean Indexing\n",
    "\n",
    "1. Create a NumPy array of shape (5, 5) filled with random integers. Use fancy indexing to extract the elements at the corners of the array.\n",
    "2. Create a NumPy array of shape (4, 4) filled with random integers. Use boolean indexing to set all elements greater than 10 to 10."
   ]
  },
  {
   "cell_type": "code",
   "execution_count": 2,
   "id": "a64b5745",
   "metadata": {},
   "outputs": [
    {
     "data": {
      "text/plain": [
       "array([ 7,  9,  2, 32])"
      ]
     },
     "execution_count": 2,
     "metadata": {},
     "output_type": "execute_result"
    }
   ],
   "source": [
    "import numpy as np\n",
    "arr=np.random.randint(1,34,(5,5))\n",
    "## fancy indexing [1,5,5]  or [[rows],[cols]] or [[row,col],[]]\n",
    "rows=[0,0,4,4]\n",
    "cols=[4,0,4,0]\n",
    "arr[rows,cols]\n"
   ]
  },
  {
   "cell_type": "code",
   "execution_count": 8,
   "id": "9985daca",
   "metadata": {},
   "outputs": [
    {
     "name": "stdout",
     "output_type": "stream",
     "text": [
      "[[29 22 19 14]\n",
      " [16 26 17 28]\n",
      " [15 13 20 32]\n",
      " [19  9 22 28]]\n"
     ]
    },
    {
     "data": {
      "text/plain": [
       "array([[10, 10, 10, 10],\n",
       "       [10, 10, 10, 10],\n",
       "       [10, 10, 10, 10],\n",
       "       [10,  9, 10, 10]])"
      ]
     },
     "execution_count": 8,
     "metadata": {},
     "output_type": "execute_result"
    }
   ],
   "source": [
    "arr=np.random.randint(1,34,(4,4))\n",
    "## fancy indexing [1,5,5]  or [[rows],[cols]] or [[row,col],[]]\n",
    "rows=[0,0,4,4]\n",
    "cols=[4,0,4,0]\n",
    "print(arr)\n",
    "arr[arr>10]=10\n",
    "arr"
   ]
  },
  {
   "cell_type": "markdown",
   "id": "34f494b8",
   "metadata": {},
   "source": [
    "### Assignment 9: Structured Arrays\n",
    "\n",
    "1. Create a structured array with fields 'name' (string), 'age' (integer), and 'weight' (float). Add some data and sort the array by age.\n",
    "2. Create a structured array with fields 'x' and 'y' (both integers). Add some data and compute the Euclidean distance between each pair of points."
   ]
  },
  {
   "cell_type": "code",
   "execution_count": 3,
   "id": "b120b143",
   "metadata": {},
   "outputs": [],
   "source": [
    "student_dtype=np.dtype([('name','U10'),('age','i4'),('wight','f4')])\n",
    "students=np.array([('amar',10,54.2),('akash',23,542.2),('vikash',24,542.45)],dtype=student_dtype)"
   ]
  },
  {
   "cell_type": "code",
   "execution_count": 4,
   "id": "f960a7b1",
   "metadata": {},
   "outputs": [
    {
     "name": "stdout",
     "output_type": "stream",
     "text": [
      "[('amar', 10,  54.2 ) ('akash', 23, 542.2 ) ('vikash', 24, 542.45)]\n"
     ]
    }
   ],
   "source": [
    "print(students)"
   ]
  },
  {
   "cell_type": "code",
   "execution_count": 5,
   "id": "47e603fb",
   "metadata": {},
   "outputs": [
    {
     "name": "stdout",
     "output_type": "stream",
     "text": [
      "['amar' 'akash' 'vikash']\n"
     ]
    }
   ],
   "source": [
    "print(students['name'])"
   ]
  },
  {
   "cell_type": "code",
   "execution_count": 6,
   "id": "264ae5c8",
   "metadata": {},
   "outputs": [
    {
     "data": {
      "text/plain": [
       "array([('amar', 10,  54.2 ), ('akash', 23, 542.2 ),\n",
       "       ('vikash', 24, 542.45)],\n",
       "      dtype=[('name', '<U10'), ('age', '<i4'), ('wight', '<f4')])"
      ]
     },
     "execution_count": 6,
     "metadata": {},
     "output_type": "execute_result"
    }
   ],
   "source": [
    "idx=np.argsort(students['age'])\n",
    "sorted_students=students[idx]\n",
    "sorted_students"
   ]
  },
  {
   "cell_type": "code",
   "execution_count": 7,
   "id": "bd0520db",
   "metadata": {},
   "outputs": [],
   "source": [
    "##2. Create a structured array with fields 'x' and 'y' (both integers). Add some data and compute the Euclidean distance between each pair of points.\n",
    "arr_dtype=np.dtype([('x','i8'),('y','i8')])"
   ]
  },
  {
   "cell_type": "code",
   "execution_count": 8,
   "id": "679fa4f5",
   "metadata": {},
   "outputs": [],
   "source": [
    "arr=np.array([(3,2),(3,5),(5,2),(5,2)],dtype=arr_dtype)"
   ]
  },
  {
   "cell_type": "code",
   "execution_count": 9,
   "id": "67e5b335",
   "metadata": {},
   "outputs": [
    {
     "data": {
      "text/plain": [
       "array([3, 3, 5, 5], dtype=int64)"
      ]
     },
     "execution_count": 9,
     "metadata": {},
     "output_type": "execute_result"
    }
   ],
   "source": [
    "\n",
    "x=arr['x']\n",
    "y=arr['y']\n",
    "x"
   ]
  },
  {
   "cell_type": "code",
   "execution_count": 10,
   "id": "ce2f2c24",
   "metadata": {},
   "outputs": [
    {
     "data": {
      "text/plain": [
       "array([[3],\n",
       "       [3],\n",
       "       [5],\n",
       "       [5]], dtype=int64)"
      ]
     },
     "execution_count": 10,
     "metadata": {},
     "output_type": "execute_result"
    }
   ],
   "source": [
    "dx=x[:,None]\n",
    "dx"
   ]
  },
  {
   "cell_type": "code",
   "execution_count": 11,
   "id": "e05dac44",
   "metadata": {},
   "outputs": [
    {
     "data": {
      "text/plain": [
       "array([[2],\n",
       "       [5],\n",
       "       [2],\n",
       "       [2]], dtype=int64)"
      ]
     },
     "execution_count": 11,
     "metadata": {},
     "output_type": "execute_result"
    }
   ],
   "source": [
    "dy=y[:,None]\n",
    "dy"
   ]
  },
  {
   "cell_type": "code",
   "execution_count": 12,
   "id": "a3c6f326",
   "metadata": {},
   "outputs": [
    {
     "data": {
      "text/plain": [
       "(array([[ 0,  0, -2, -2],\n",
       "        [ 0,  0, -2, -2],\n",
       "        [ 2,  2,  0,  0],\n",
       "        [ 2,  2,  0,  0]], dtype=int64),\n",
       " array([[ 0, -3,  0,  0],\n",
       "        [ 3,  0,  3,  3],\n",
       "        [ 0, -3,  0,  0],\n",
       "        [ 0, -3,  0,  0]], dtype=int64))"
      ]
     },
     "execution_count": 12,
     "metadata": {},
     "output_type": "execute_result"
    }
   ],
   "source": [
    "dx=dx-x\n",
    "dy=dy-y\n",
    "dx,dy"
   ]
  },
  {
   "cell_type": "code",
   "execution_count": 14,
   "id": "6f5742f4",
   "metadata": {},
   "outputs": [],
   "source": [
    "sumi=dx+dy"
   ]
  },
  {
   "cell_type": "code",
   "execution_count": 15,
   "id": "cb29accd",
   "metadata": {},
   "outputs": [
    {
     "name": "stderr",
     "output_type": "stream",
     "text": [
      "C:\\Users\\ak954\\AppData\\Local\\Temp\\ipykernel_29936\\4261408864.py:1: RuntimeWarning: invalid value encountered in sqrt\n",
      "  np.sqrt(dx+dy)\n"
     ]
    },
    {
     "data": {
      "text/plain": [
       "array([[0.        ,        nan,        nan,        nan],\n",
       "       [1.73205081, 0.        , 1.        , 1.        ],\n",
       "       [1.41421356,        nan, 0.        , 0.        ],\n",
       "       [1.41421356,        nan, 0.        , 0.        ]])"
      ]
     },
     "execution_count": 15,
     "metadata": {},
     "output_type": "execute_result"
    }
   ],
   "source": [
    "np.sqrt(dx+dy)"
   ]
  },
  {
   "cell_type": "markdown",
   "id": "348c80dd",
   "metadata": {},
   "source": [
    "### Assignment 10: Masked Arrays\n",
    "\n",
    "1. Create a masked array of shape (4, 4) with random integers and mask the elements greater than 10. Compute the sum of the unmasked elements.\n",
    "2. Create a masked array of shape (3, 3) with random integers and mask the diagonal elements. Replace the masked elements with the mean of the unmasked elements."
   ]
  },
  {
   "cell_type": "code",
   "execution_count": 22,
   "id": "e6e90feb",
   "metadata": {},
   "outputs": [
    {
     "name": "stdout",
     "output_type": "stream",
     "text": [
      "[[47 33 49 13]\n",
      " [46 47  5 17]\n",
      " [23 47 53  6]\n",
      " [28  7 27 49]]\n"
     ]
    },
    {
     "data": {
      "text/plain": [
       "18"
      ]
     },
     "execution_count": 22,
     "metadata": {},
     "output_type": "execute_result"
    }
   ],
   "source": [
    "arr=np.random.randint(2,54,(4,4))\n",
    "print(arr)\n",
    "masked_arr=np.ma.masked_greater(arr,10)\n",
    "np.sum(masked_arr)"
   ]
  },
  {
   "cell_type": "code",
   "execution_count": 23,
   "id": "0ed32764",
   "metadata": {},
   "outputs": [
    {
     "data": {
      "text/plain": [
       "array([[ 7,  3, 12],\n",
       "       [ 6, 12, 11],\n",
       "       [10,  8, 10]])"
      ]
     },
     "execution_count": 23,
     "metadata": {},
     "output_type": "execute_result"
    }
   ],
   "source": [
    "arr2=np.random.randint(3,13,(3,3))\n",
    "arr2"
   ]
  },
  {
   "cell_type": "code",
   "execution_count": 25,
   "id": "13e220f5",
   "metadata": {},
   "outputs": [
    {
     "data": {
      "text/plain": [
       "masked_array(\n",
       "  data=[[--, 3, 12],\n",
       "        [6, --, 11],\n",
       "        [10, 8, --]],\n",
       "  mask=[[ True, False, False],\n",
       "        [False,  True, False],\n",
       "        [False, False,  True]],\n",
       "  fill_value=999999)"
      ]
     },
     "execution_count": 25,
     "metadata": {},
     "output_type": "execute_result"
    }
   ],
   "source": [
    "masked_arr=np.ma.masked_array(arr2,np.eye(3))\n",
    "masked_arr"
   ]
  },
  {
   "cell_type": "code",
   "execution_count": 27,
   "id": "34570a33",
   "metadata": {},
   "outputs": [
    {
     "data": {
      "text/plain": [
       "8.333333333333334"
      ]
     },
     "execution_count": 27,
     "metadata": {},
     "output_type": "execute_result"
    }
   ],
   "source": [
    "unmasked_mean=np.mean(masked_arr)\n",
    "unmasked_mean\n"
   ]
  },
  {
   "cell_type": "code",
   "execution_count": 28,
   "id": "e4a6e809",
   "metadata": {},
   "outputs": [],
   "source": [
    "filled_arr=masked_arr.filled(unmasked_mean)"
   ]
  },
  {
   "cell_type": "code",
   "execution_count": 29,
   "id": "461317fb",
   "metadata": {},
   "outputs": [
    {
     "data": {
      "text/plain": [
       "array([[ 8,  3, 12],\n",
       "       [ 6,  8, 11],\n",
       "       [10,  8,  8]])"
      ]
     },
     "execution_count": 29,
     "metadata": {},
     "output_type": "execute_result"
    }
   ],
   "source": [
    "filled_arr"
   ]
  },
  {
   "cell_type": "code",
   "execution_count": null,
   "id": "36a05b25",
   "metadata": {},
   "outputs": [],
   "source": []
  }
 ],
 "metadata": {
  "kernelspec": {
   "display_name": "base",
   "language": "python",
   "name": "python3"
  },
  "language_info": {
   "codemirror_mode": {
    "name": "ipython",
    "version": 3
   },
   "file_extension": ".py",
   "mimetype": "text/x-python",
   "name": "python",
   "nbconvert_exporter": "python",
   "pygments_lexer": "ipython3",
   "version": "3.12.7"
  }
 },
 "nbformat": 4,
 "nbformat_minor": 5
}
