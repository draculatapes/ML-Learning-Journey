{
 "cells": [
  {
   "cell_type": "markdown",
   "id": "ac22e988",
   "metadata": {},
   "source": [
    "### Assignment 1: Creating and Connecting to a Database\n",
    "\n",
    "1. Write a Python function to create a new SQLite3 database named `test.db`.\n",
    "2. Write a Python function to create a table named `employees` with columns `id` (integer), `name` (text), `age` (integer), and `department` (text) in the `test.db` database."
   ]
  },
  {
   "cell_type": "code",
   "execution_count": 1,
   "id": "33eaba9c",
   "metadata": {},
   "outputs": [],
   "source": [
    "import sqlite3"
   ]
  },
  {
   "cell_type": "code",
   "execution_count": 6,
   "id": "591d33ad",
   "metadata": {},
   "outputs": [],
   "source": [
    "connection=sqlite3.connect('test.db')\n",
    "connection\n",
    "cursor=connection.cursor()\n",
    "\n"
   ]
  },
  {
   "cell_type": "code",
   "execution_count": 8,
   "id": "6e96ea24",
   "metadata": {},
   "outputs": [
    {
     "data": {
      "text/plain": [
       "<sqlite3.Cursor at 0x240035d6940>"
      ]
     },
     "execution_count": 8,
     "metadata": {},
     "output_type": "execute_result"
    }
   ],
   "source": [
    "cursor.execute('''\n",
    "CREATE TABLE employees(id Integer Primary Key , name Text, age Integer, department TExt)\n",
    "''')"
   ]
  },
  {
   "cell_type": "markdown",
   "id": "d5712ebf",
   "metadata": {},
   "source": [
    "### Assignment 2: Inserting Data\n",
    "\n",
    "1. Write a Python function to insert a new employee into the `employees` table.\n",
    "2. Insert at least 5 different employees into the `employees` table."
   ]
  },
  {
   "cell_type": "code",
   "execution_count": 13,
   "id": "06f0bbad",
   "metadata": {},
   "outputs": [],
   "source": [
    "cursor.execute('''\n",
    "INSERT INTO employees(id,name,age,department) Values (14,'amarjeet',23,'cse')\n",
    "''')\n",
    "connection.commit()"
   ]
  },
  {
   "cell_type": "code",
   "execution_count": 15,
   "id": "f5d1dfe5",
   "metadata": {},
   "outputs": [
    {
     "data": {
      "text/plain": [
       "<sqlite3.Cursor at 0x240035d6940>"
      ]
     },
     "execution_count": 15,
     "metadata": {},
     "output_type": "execute_result"
    }
   ],
   "source": [
    "cursor.execute('''\n",
    "INSERT INTO employees(id,name,age,department) Values (1,'aksh',23,'cse')\n",
    "''')\n",
    "cursor.execute('''\n",
    "INSERT INTO employees(id,name,age,department) Values (2,'chandra',23,'cse')\n",
    "''')\n",
    "cursor.execute('''\n",
    "INSERT INTO employees(id,name,age,department) Values (3,'ajeet',23,'cse')\n",
    "''')\n",
    "cursor.execute('''\n",
    "INSERT INTO employees(id,name,age,department) Values (4,'kumar',23,'cse')\n",
    "''')"
   ]
  },
  {
   "cell_type": "code",
   "execution_count": 16,
   "id": "c0c6cc79",
   "metadata": {},
   "outputs": [],
   "source": [
    "connection.commit()"
   ]
  },
  {
   "cell_type": "markdown",
   "id": "a98f50cc",
   "metadata": {},
   "source": [
    "### Assignment 3: Querying Data\n",
    "\n",
    "1. Write a Python function to fetch and display all records from the `employees` table.\n",
    "2. Write a Python function to fetch and display all employees from a specific department.\n"
   ]
  },
  {
   "cell_type": "code",
   "execution_count": 19,
   "id": "acdd0cb2",
   "metadata": {},
   "outputs": [
    {
     "name": "stdout",
     "output_type": "stream",
     "text": [
      "<class 'list'>\n",
      "(1, 'aksh', 23, 'cse')\n",
      "(2, 'chandra', 23, 'cse')\n",
      "(3, 'ajeet', 23, 'cse')\n",
      "(4, 'kumar', 23, 'cse')\n",
      "(12, 'amarjeet', 23, 'cse')\n",
      "(13, 'amarjeet', 23, 'cse')\n",
      "(14, 'amarjeet', 23, 'cse')\n"
     ]
    }
   ],
   "source": [
    "cursor.execute('SELECT * from employees')\n",
    "rows=cursor.fetchall()\n",
    "print(type(rows))\n",
    "for line in rows:\n",
    "    print(line)\n"
   ]
  },
  {
   "cell_type": "code",
   "execution_count": 20,
   "id": "7bf8616c",
   "metadata": {},
   "outputs": [
    {
     "name": "stdout",
     "output_type": "stream",
     "text": [
      "<class 'list'>\n",
      "(1, 'aksh', 23, 'cse')\n",
      "(2, 'chandra', 23, 'cse')\n",
      "(3, 'ajeet', 23, 'cse')\n",
      "(4, 'kumar', 23, 'cse')\n",
      "(12, 'amarjeet', 23, 'cse')\n",
      "(13, 'amarjeet', 23, 'cse')\n",
      "(14, 'amarjeet', 23, 'cse')\n"
     ]
    }
   ],
   "source": [
    "cursor.execute('SELECT * from employees where department=\"cse\"')\n",
    "rows=cursor.fetchall()\n",
    "print(type(rows))\n",
    "for line in rows:\n",
    "    print(line)\n"
   ]
  },
  {
   "cell_type": "markdown",
   "id": "c63c2d82",
   "metadata": {},
   "source": [
    "### Assignment 4: Updating Data\n",
    "\n",
    "1. Write a Python function to update the department of an employee based on their `id`.\n",
    "2. Update the department of at least 2 employees and display the updated records."
   ]
  },
  {
   "cell_type": "code",
   "execution_count": 22,
   "id": "2eb140b4",
   "metadata": {},
   "outputs": [],
   "source": [
    "cursor.execute('''\n",
    "UPDATE employees Set department='me'  where id=1\n",
    "''')\n",
    "connection.commit()"
   ]
  },
  {
   "cell_type": "markdown",
   "id": "a74f2ba7",
   "metadata": {},
   "source": [
    "# 2. Update the department of at least 2 employees and display the updated records.\n",
    "cursor.execute('''\n",
    "UPDATE employees Set department='mce'  where name='amarjeet'\n",
    "''')\n",
    "cursor.execute('''\n",
    "UPDATE employees Set department='eee'  where name='kumar'\n",
    "''')\n",
    "connection.commit()"
   ]
  },
  {
   "cell_type": "markdown",
   "id": "5c08ae82",
   "metadata": {},
   "source": [
    "### Assignment 5: Deleting Data\n",
    "\n",
    "1. Write a Python function to delete an employee from the `employees` table based on their `id`.\n",
    "2. Delete at least 1 employee and display the remaining records."
   ]
  },
  {
   "cell_type": "code",
   "execution_count": null,
   "id": "24c107cf",
   "metadata": {},
   "outputs": [
    {
     "name": "stdout",
     "output_type": "stream",
     "text": [
      "<class 'list'> [(1, 'aksh', 32, 'me'), (2, 'chandra', 23, 'cse'), (3, 'ajeet', 23, 'cse'), (4, 'kumar', 23, 'eee'), (12, 'amarjeet', 23, 'mce'), (14, 'amarjeet', 23, 'mce')]\n",
      "(1, 'aksh', 32, 'me')\n",
      "(2, 'chandra', 23, 'cse')\n",
      "(3, 'ajeet', 23, 'cse')\n",
      "(4, 'kumar', 23, 'eee')\n",
      "(12, 'amarjeet', 23, 'mce')\n",
      "(14, 'amarjeet', 23, 'mce')\n"
     ]
    }
   ],
   "source": [
    "cursor.execute('''\n",
    "DELETE from employees where id=13\n",
    "''')\n",
    "cursor.execute('''\n",
    "SELECT * from employees\n",
    "''')\n",
    "connection.commit()\n",
    "rows=cursor.fetchall()\n",
    "for line in rows:\n",
    "    print(line)\n",
    "\n",
    "\n"
   ]
  },
  {
   "cell_type": "markdown",
   "id": "8f1b13f9",
   "metadata": {},
   "source": [
    "### Assignment 6: Advanced Queries\n",
    "\n",
    "1. Write a Python function to fetch and display employees older than a certain age.\n",
    "2. Write a Python function to fetch and display employees whose names start with a specific letter.\n"
   ]
  },
  {
   "cell_type": "code",
   "execution_count": null,
   "id": "b3635a2d",
   "metadata": {},
   "outputs": [
    {
     "name": "stdout",
     "output_type": "stream",
     "text": [
      "(2, 'chandra', 23, 'cse')\n",
      "(3, 'ajeet', 23, 'cse')\n",
      "(4, 'kumar', 23, 'eee')\n",
      "(12, 'amarjeet', 23, 'mce')\n",
      "(14, 'amarjeet', 23, 'mce')\n"
     ]
    }
   ],
   "source": [
    "cursor.execute('''\n",
    "SELECT * from employees where age>20 and age<30\n",
    "''')\n",
    "\n",
    "rows=cursor.fetchall()\n",
    "for line in rows:\n",
    "    print(line)\n",
    "connection.commit()\n"
   ]
  },
  {
   "cell_type": "code",
   "execution_count": 35,
   "id": "7f034efd",
   "metadata": {},
   "outputs": [
    {
     "name": "stdout",
     "output_type": "stream",
     "text": [
      "(1, 'aksh', 32, 'me')\n",
      "(3, 'ajeet', 23, 'cse')\n",
      "(12, 'amarjeet', 23, 'mce')\n",
      "(14, 'amarjeet', 23, 'mce')\n"
     ]
    }
   ],
   "source": [
    "cursor.execute('''\n",
    "SELECT * FROM employees WHERE name LIKE ?\n",
    "''', ('a' + '%',))\n",
    "rows=cursor.fetchall()\n",
    "for line in rows:\n",
    "    print(line)\n",
    "connection.commit()"
   ]
  },
  {
   "cell_type": "markdown",
   "id": "5ffb21c1",
   "metadata": {},
   "source": [
    "### Assignment 7: Handling Transactions\n",
    "\n",
    "1. Write a Python function to insert multiple employees into the `employees` table in a single transaction. Ensure that if any insertion fails, none of the insertions are committed.\n",
    "2. Write a Python function to update the age of multiple employees in a single transaction. Ensure that if any update fails, none of the updates are committed."
   ]
  },
  {
   "cell_type": "code",
   "execution_count": null,
   "id": "2515fc08",
   "metadata": {},
   "outputs": [
    {
     "ename": "IntegrityError",
     "evalue": "UNIQUE constraint failed: employees.id",
     "output_type": "error",
     "traceback": [
      "\u001b[1;31m---------------------------------------------------------------------------\u001b[0m",
      "\u001b[1;31mIntegrityError\u001b[0m                            Traceback (most recent call last)",
      "Cell \u001b[1;32mIn[37], line 9\u001b[0m\n\u001b[0;32m      1\u001b[0m employee_data\u001b[38;5;241m=\u001b[39m[\n\u001b[0;32m      2\u001b[0m     (\u001b[38;5;241m233\u001b[39m,\u001b[38;5;124m'\u001b[39m\u001b[38;5;124mjohn\u001b[39m\u001b[38;5;124m'\u001b[39m,\u001b[38;5;241m35\u001b[39m,\u001b[38;5;124m'\u001b[39m\u001b[38;5;124mcse\u001b[39m\u001b[38;5;124m'\u001b[39m),\n\u001b[0;32m      3\u001b[0m     (\u001b[38;5;241m235\u001b[39m,\u001b[38;5;124m'\u001b[39m\u001b[38;5;124mram\u001b[39m\u001b[38;5;124m'\u001b[39m,\u001b[38;5;241m35\u001b[39m,\u001b[38;5;124m'\u001b[39m\u001b[38;5;124mcse\u001b[39m\u001b[38;5;124m'\u001b[39m),\n\u001b[1;32m   (...)\u001b[0m\n\u001b[0;32m      7\u001b[0m     (\u001b[38;5;241m243\u001b[39m,\u001b[38;5;124m'\u001b[39m\u001b[38;5;124mwicx\u001b[39m\u001b[38;5;124m'\u001b[39m,\u001b[38;5;241m35\u001b[39m,\u001b[38;5;124m'\u001b[39m\u001b[38;5;124mme\u001b[39m\u001b[38;5;124m'\u001b[39m),\n\u001b[0;32m      8\u001b[0m ]\n\u001b[1;32m----> 9\u001b[0m cursor\u001b[38;5;241m.\u001b[39mexecutemany(\u001b[38;5;124m'''\u001b[39m\u001b[38;5;124m INSERT INTO employees(id,name,age,department) VALUES (?,?,?,?)\u001b[39m\u001b[38;5;124m'''\u001b[39m,employee_data)\n\u001b[0;32m     10\u001b[0m connection\u001b[38;5;241m.\u001b[39mcommit()\n\u001b[0;32m     11\u001b[0m rows\u001b[38;5;241m=\u001b[39mcursor\u001b[38;5;241m.\u001b[39mfetchall()\n",
      "\u001b[1;31mIntegrityError\u001b[0m: UNIQUE constraint failed: employees.id"
     ]
    }
   ],
   "source": [
    "employee_data=[\n",
    "    (233,'john',35,'cse'),\n",
    "    (235,'ram',35,'cse'),\n",
    "    (237,'sweety',35,'me'),\n",
    "    (239,'kumar',35,'ce'),\n",
    "    (240,'laxman',35,'xe'),\n",
    "    (243,'wicx',35,'me'),\n",
    "]\n",
    "cursor.executemany(''' INSERT INTO employees(id,name,age,department) VALUES (?,?,?,?)''',employee_data)\n",
    "\n"
   ]
  },
  {
   "cell_type": "code",
   "execution_count": 42,
   "id": "88f4543a",
   "metadata": {},
   "outputs": [
    {
     "name": "stdout",
     "output_type": "stream",
     "text": [
      "(1, 'aksh', 32, 'me')\n",
      "(2, 'chandra', 23, 'cse')\n",
      "(3, 'ajeet', 23, 'cse')\n",
      "(4, 'kumar', 23, 'eee')\n",
      "(12, 'amarjeet', 23, 'mce')\n",
      "(14, 'amarjeet', 23, 'mce')\n",
      "(233, 'john', 35, 'cse')\n",
      "(235, 'ram', 35, 'cse')\n",
      "(237, 'sweety', 35, 'me')\n",
      "(239, 'kumar', 35, 'ce')\n",
      "(240, 'laxman', 35, 'xe')\n",
      "(243, 'wicx', 35, 'me')\n"
     ]
    }
   ],
   "source": [
    "cursor.execute('Select * from employees ')\n",
    "rows=cursor.fetchall()\n",
    "for line in rows:\n",
    "    print(line)\n",
    "connection.commit()"
   ]
  },
  {
   "cell_type": "code",
   "execution_count": 45,
   "id": "c50e57ae",
   "metadata": {},
   "outputs": [
    {
     "name": "stdout",
     "output_type": "stream",
     "text": [
      "All updates committed successfully.\n",
      "(1, 'aksh', 32, 'me')\n",
      "(2, 'chandra', 32, 'cse')\n",
      "(3, 'ajeet', 32, 'cse')\n",
      "(4, 'kumar', 32, 'eee')\n",
      "(12, 'amarjeet', 32, 'mce')\n",
      "(14, 'amarjeet', 32, 'mce')\n",
      "(233, 'john', 35, 'cse')\n",
      "(235, 'ram', 35, 'cse')\n",
      "(237, 'sweety', 35, 'me')\n",
      "(239, 'kumar', 35, 'ce')\n",
      "(240, 'laxman', 35, 'xe')\n",
      "(243, 'wicx', 35, 'me')\n"
     ]
    }
   ],
   "source": [
    "def update_employee_age(updates):\n",
    "    try:\n",
    "        for old_age,new_age in updates:\n",
    "            cursor.execute('''\n",
    "        UPDATE employees SET age=? where age=?\n",
    "    ''',(new_age,old_age))\n",
    "        connection.commit()\n",
    "        print(\"All updates committed successfully.\")\n",
    "    except Exception as e:\n",
    "        connection.rollback()\n",
    "        print(\"Transaction failed. Rolled back changes. Error:\", e)\n",
    "\n",
    "updates=[[23,32]]\n",
    "update_employee_age(updates)\n",
    "cursor.execute('Select * from employees ')\n",
    "rows=cursor.fetchall()\n",
    "for line in rows:\n",
    "    print(line)\n",
    "connection.commit()\n"
   ]
  },
  {
   "cell_type": "markdown",
   "id": "17f178e1",
   "metadata": {},
   "source": [
    "### Assignment 8: Creating Relationships\n",
    "\n",
    "1. Create a new table named `departments` with columns `id` (integer) and `name` (text).\n",
    "2. Modify the `employees` table to include a foreign key referencing the `id` column in the `departments` table.\n",
    "3. Write a Python function to insert data into both the `departments` and `employees` tables, ensuring referential integrity."
   ]
  },
  {
   "cell_type": "code",
   "execution_count": null,
   "id": "a971087e",
   "metadata": {},
   "outputs": [
    {
     "data": {
      "text/plain": [
       "<sqlite3.Cursor at 0x240035d6940>"
      ]
     },
     "execution_count": 72,
     "metadata": {},
     "output_type": "execute_result"
    }
   ],
   "source": [
    "cursor.execute('''\n",
    "CREATE TABLE employees(id Integer,name Text,age Integer,department Text)\n",
    "               \n",
    "''')\n",
    "data=[\n",
    "    (1, 'aksh', 32, 'me'),\n",
    "(2, 'chandra', 23, 'cse'),\n",
    "(3, 'ajeet', 23, 'cse'),\n",
    "(4, 'kumar', 23, 'eee'),\n",
    "(12, 'amarjeet', 23, 'mce'),\n",
    "(14, 'amarjeet', 23, 'mce'),\n",
    "(233, 'john', 35, 'cse'),\n",
    "(235, 'ram', 35, 'cse'),\n",
    "(237, 'sweety', 35, 'me'),\n",
    "(239, 'kumar', 35, 'ce'),\n",
    "(240, 'laxman', 35, 'xe'),\n",
    "(243, 'wicx', 35, 'me')\n",
    "]\n",
    "cursor.executemany('''\n",
    "INSERT INTO employees(id,name,age,department) VALUES (?,?,?,?)\n",
    "''',data)\n"
   ]
  },
  {
   "cell_type": "code",
   "execution_count": null,
   "id": "4a8a349e",
   "metadata": {},
   "outputs": [
    {
     "data": {
      "text/plain": [
       "<sqlite3.Cursor at 0x240035d6940>"
      ]
     },
     "execution_count": 46,
     "metadata": {},
     "output_type": "execute_result"
    }
   ],
   "source": [
    "cursor.execute('''\n",
    "CREATE TABLE departments(id Integer,name Text)\n",
    "               \n",
    "''')\n"
   ]
  },
  {
   "cell_type": "code",
   "execution_count": 70,
   "id": "d0cc37dd",
   "metadata": {},
   "outputs": [
    {
     "ename": "OperationalError",
     "evalue": "table employeed_new already exists",
     "output_type": "error",
     "traceback": [
      "\u001b[1;31m---------------------------------------------------------------------------\u001b[0m",
      "\u001b[1;31mOperationalError\u001b[0m                          Traceback (most recent call last)",
      "Cell \u001b[1;32mIn[70], line 1\u001b[0m\n\u001b[1;32m----> 1\u001b[0m cursor\u001b[38;5;241m.\u001b[39mexecute(\u001b[38;5;124m'''\u001b[39m\n\u001b[0;32m      2\u001b[0m \u001b[38;5;124mCREATE TABLE employeed_new(id Integer,name Text,age Integer,department TEXT,dept_id Integer,FOREIGN KEY (dept_id) REFERENCES departments(id))\u001b[39m\n\u001b[0;32m      3\u001b[0m \u001b[38;5;124m'''\u001b[39m)\n",
      "\u001b[1;31mOperationalError\u001b[0m: table employeed_new already exists"
     ]
    }
   ],
   "source": [
    "\n",
    "cursor.execute('''\n",
    "CREATE TABLE employeed_new(id Integer,name Text,age Integer,department TEXT,dept_id Integer,FOREIGN KEY (dept_id) REFERENCES departments(id))\n",
    "''')\n"
   ]
  },
  {
   "cell_type": "code",
   "execution_count": 73,
   "id": "25d6198b",
   "metadata": {},
   "outputs": [
    {
     "name": "stdout",
     "output_type": "stream",
     "text": [
      "(1, 'aksh', 32, 'me', None)\n",
      "(2, 'chandra', 23, 'cse', None)\n",
      "(3, 'ajeet', 23, 'cse', None)\n",
      "(4, 'kumar', 23, 'eee', None)\n",
      "(12, 'amarjeet', 23, 'mce', None)\n",
      "(14, 'amarjeet', 23, 'mce', None)\n",
      "(233, 'john', 35, 'cse', None)\n",
      "(235, 'ram', 35, 'cse', None)\n",
      "(237, 'sweety', 35, 'me', None)\n",
      "(239, 'kumar', 35, 'ce', None)\n",
      "(240, 'laxman', 35, 'xe', None)\n",
      "(243, 'wicx', 35, 'me', None)\n"
     ]
    }
   ],
   "source": [
    "cursor.execute('''\n",
    "INSERT INTO employeed_new(id,name,age,department) SELECT id,name,age,department from employees  \n",
    "                \n",
    "''')\n",
    "cursor.execute('''\n",
    "SELECT * from employeed_new\n",
    "''')\n",
    "rows=cursor.fetchall()\n",
    "for row in rows:\n",
    "    print(row)\n",
    "connection.commit()\n"
   ]
  },
  {
   "cell_type": "code",
   "execution_count": 74,
   "id": "0a6e2de6",
   "metadata": {},
   "outputs": [
    {
     "data": {
      "text/plain": [
       "<sqlite3.Cursor at 0x240035d6940>"
      ]
     },
     "execution_count": 74,
     "metadata": {},
     "output_type": "execute_result"
    }
   ],
   "source": [
    "cursor.execute(\"DROP TABLE employees\")\n",
    "cursor.execute(\"ALTER TABLE employeed_new RENAME TO employees \")"
   ]
  },
  {
   "cell_type": "code",
   "execution_count": 75,
   "id": "3728dd7f",
   "metadata": {},
   "outputs": [],
   "source": [
    "connection.commit()"
   ]
  },
  {
   "cell_type": "code",
   "execution_count": 80,
   "id": "1f414b61",
   "metadata": {},
   "outputs": [],
   "source": [
    "cursor.execute(\"INSERT INTO departments VALUES (1, 'Engineering')\")\n",
    "cursor.execute(\"INSERT INTO employees VALUES (101, 'Alice',34,'cse', 1); \")\n",
    "cursor.execute(\"INSERT INTO employees VALUES (101, 'Alice',34,'cse', 34); \")\n",
    "connection.commit()"
   ]
  },
  {
   "cell_type": "code",
   "execution_count": 87,
   "id": "0eff4b86",
   "metadata": {},
   "outputs": [
    {
     "name": "stdout",
     "output_type": "stream",
     "text": [
      "(1, 'aksh', 32, 'me', None)\n",
      "(3, 'ajeet', 23, 'cse', None)\n",
      "(12, 'amarjeet', 23, 'mce', None)\n",
      "(14, 'amarjeet', 23, 'mce', None)\n",
      "(101, 'Alice', 34, 'cse', 1)\n",
      "(101, 'Alice', 34, 'cse', 1)\n",
      "(101, 'Alice', 34, 'cse', 34)\n",
      "(101, 'Alice', 34, 'cse', 1)\n",
      "(101, 'Alice', 34, 'cse', 34)\n",
      "(101, 'Alice', 34, 'cse', 1)\n",
      "(101, 'Alice', 34, 'cse', 34)\n",
      "total time without indexing  0.002000570297241211\n"
     ]
    }
   ],
   "source": [
    "import time;\n",
    "currTime=time.time()\n",
    "cursor.execute(\"SELECT * from employees WHERE name LIKE ? \",('a' + '%',))\n",
    "rows=cursor.fetchall()\n",
    "for row in rows:\n",
    "    print(row)\n",
    "print('total time without indexing ',time.time()-currTime)\n"
   ]
  },
  {
   "cell_type": "code",
   "execution_count": 81,
   "id": "eef74347",
   "metadata": {},
   "outputs": [
    {
     "data": {
      "text/plain": [
       "<sqlite3.Cursor at 0x240035d6940>"
      ]
     },
     "execution_count": 81,
     "metadata": {},
     "output_type": "execute_result"
    }
   ],
   "source": [
    "cursor.execute('''\n",
    "CREATE INDEX  name_idx ON employees(name)\n",
    "''')"
   ]
  },
  {
   "cell_type": "code",
   "execution_count": 82,
   "id": "25f02c81",
   "metadata": {},
   "outputs": [
    {
     "name": "stdout",
     "output_type": "stream",
     "text": [
      "(1, 'aksh', 32, 'me', None)\n",
      "(3, 'ajeet', 23, 'cse', None)\n",
      "(12, 'amarjeet', 23, 'mce', None)\n",
      "(14, 'amarjeet', 23, 'mce', None)\n",
      "(101, 'Alice', 34, 'cse', 1)\n",
      "(101, 'Alice', 34, 'cse', 1)\n",
      "(101, 'Alice', 34, 'cse', 34)\n",
      "(101, 'Alice', 34, 'cse', 1)\n",
      "(101, 'Alice', 34, 'cse', 34)\n",
      "(101, 'Alice', 34, 'cse', 1)\n",
      "(101, 'Alice', 34, 'cse', 34)\n"
     ]
    }
   ],
   "source": [
    "def fetchDetails(letter):\n",
    "    cursor.execute(\"SELECT * from employees WHERE name LIKE ? \",(letter + '%',))\n",
    "    rows=cursor.fetchall()\n",
    "    for row in rows:\n",
    "        print(row)\n",
    "fetchDetails('a')"
   ]
  },
  {
   "cell_type": "code",
   "execution_count": 83,
   "id": "e60ef73d",
   "metadata": {},
   "outputs": [],
   "source": [
    "import time;"
   ]
  },
  {
   "cell_type": "code",
   "execution_count": 86,
   "id": "5dbbe103",
   "metadata": {},
   "outputs": [
    {
     "name": "stdout",
     "output_type": "stream",
     "text": [
      "(1, 'aksh', 32, 'me', None)\n",
      "(3, 'ajeet', 23, 'cse', None)\n",
      "(12, 'amarjeet', 23, 'mce', None)\n",
      "(14, 'amarjeet', 23, 'mce', None)\n",
      "(101, 'Alice', 34, 'cse', 1)\n",
      "(101, 'Alice', 34, 'cse', 1)\n",
      "(101, 'Alice', 34, 'cse', 34)\n",
      "(101, 'Alice', 34, 'cse', 1)\n",
      "(101, 'Alice', 34, 'cse', 34)\n",
      "(101, 'Alice', 34, 'cse', 1)\n",
      "(101, 'Alice', 34, 'cse', 34)\n",
      "0.0009984970092773438  -->total time taken with indexing\n"
     ]
    }
   ],
   "source": [
    "currTime=time.time()\n",
    "fetchDetails('a')\n",
    "totalTime=time.time()-currTime\n",
    "print(totalTime , ' -->total time taken with indexing')"
   ]
  },
  {
   "cell_type": "code",
   "execution_count": 88,
   "id": "9fac69ab",
   "metadata": {},
   "outputs": [],
   "source": [
    "connection.commit()"
   ]
  },
  {
   "cell_type": "markdown",
   "id": "6249ff36",
   "metadata": {},
   "source": [
    "### Assignment 10: Backing Up and Restoring Data\n",
    "\n",
    "1. Write a Python function to back up the `test.db` database to a file named `backup.db`.\n",
    "2. Write a Python function to restore the `test.db` database from the `backup.db` file."
   ]
  },
  {
   "cell_type": "code",
   "execution_count": 3,
   "id": "cd6c5f3f",
   "metadata": {},
   "outputs": [
    {
     "name": "stdout",
     "output_type": "stream",
     "text": [
      "backup completed from test.db->backup.db\n"
     ]
    }
   ],
   "source": [
    "import sqlite3\n",
    "\n",
    "def backup_database(sourcedb,destdb):\n",
    "    source_connection=sqlite3.connect(sourcedb)\n",
    "    dest_connection=sqlite3.connect(destdb)\n",
    "    with dest_connection:\n",
    "        source_connection.backup(dest_connection)\n",
    "    print(f'backup completed from {sourcedb}->{destdb}')\n",
    "    source_connection.close()\n",
    "    dest_connection.close()\n",
    "def restore_database(backup,source):\n",
    "    backup_conn=sqlite3.connect(backup)\n",
    "    source_conn=sqlite3.connect(source)\n",
    "    with source_conn:\n",
    "        backup_conn.backup(source_conn)\n",
    "    print(f'restore completed from {backup} -> {source}')\n",
    "    backup_conn.close()\n",
    "    source_conn.close()\n",
    "\n",
    "backup_database('test.db','backup.db')"
   ]
  },
  {
   "cell_type": "code",
   "execution_count": null,
   "id": "dc963eae",
   "metadata": {},
   "outputs": [],
   "source": []
  }
 ],
 "metadata": {
  "kernelspec": {
   "display_name": "base",
   "language": "python",
   "name": "python3"
  },
  "language_info": {
   "codemirror_mode": {
    "name": "ipython",
    "version": 3
   },
   "file_extension": ".py",
   "mimetype": "text/x-python",
   "name": "python",
   "nbconvert_exporter": "python",
   "pygments_lexer": "ipython3",
   "version": "3.12.7"
  }
 },
 "nbformat": 4,
 "nbformat_minor": 5
}
