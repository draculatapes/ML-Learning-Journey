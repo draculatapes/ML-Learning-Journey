{
 "cells": [
  {
   "cell_type": "markdown",
   "id": "78f586cb",
   "metadata": {},
   "source": [
    "oops is programming paradigm that uses objects to desing applications and computer programs . oop allow for modeling real-world scenario using classes and objects."
   ]
  },
  {
   "cell_type": "code",
   "execution_count": 1,
   "id": "7b56125a",
   "metadata": {},
   "outputs": [
    {
     "name": "stdout",
     "output_type": "stream",
     "text": [
      "<class '__main__.Car'>\n"
     ]
    }
   ],
   "source": [
    "class Car:\n",
    "    pass\n",
    "audi=Car()\n",
    "bmw=Car()\n",
    "\n",
    "print(type(audi))\n"
   ]
  },
  {
   "cell_type": "code",
   "execution_count": null,
   "id": "73cfdce2",
   "metadata": {},
   "outputs": [
    {
     "name": "stdout",
     "output_type": "stream",
     "text": [
      "<__main__.Car object at 0x00000289A86F6360>\n",
      "4\n"
     ]
    }
   ],
   "source": [
    "print(audi)\n",
    "audi.window=4##not a proper way\n",
    "print(audi.window)"
   ]
  },
  {
   "cell_type": "code",
   "execution_count": 4,
   "id": "42522541",
   "metadata": {},
   "outputs": [
    {
     "data": {
      "text/plain": [
       "['__class__',\n",
       " '__delattr__',\n",
       " '__dict__',\n",
       " '__dir__',\n",
       " '__doc__',\n",
       " '__eq__',\n",
       " '__format__',\n",
       " '__ge__',\n",
       " '__getattribute__',\n",
       " '__getstate__',\n",
       " '__gt__',\n",
       " '__hash__',\n",
       " '__init__',\n",
       " '__init_subclass__',\n",
       " '__le__',\n",
       " '__lt__',\n",
       " '__module__',\n",
       " '__ne__',\n",
       " '__new__',\n",
       " '__reduce__',\n",
       " '__reduce_ex__',\n",
       " '__repr__',\n",
       " '__setattr__',\n",
       " '__sizeof__',\n",
       " '__str__',\n",
       " '__subclasshook__',\n",
       " '__weakref__',\n",
       " 'window']"
      ]
     },
     "execution_count": 4,
     "metadata": {},
     "output_type": "execute_result"
    }
   ],
   "source": [
    "##instance variable and methods\n",
    "dir(audi\n",
    ")\n"
   ]
  },
  {
   "cell_type": "code",
   "execution_count": null,
   "id": "57564e28",
   "metadata": {},
   "outputs": [
    {
     "name": "stdout",
     "output_type": "stream",
     "text": [
      "<__main__.Dog object at 0x00000289A86F63C0>\n"
     ]
    }
   ],
   "source": [
    "class Dog:\n",
    "    ##constructor\n",
    "    def __init__(self,name,age):\n",
    "        self.name=name##instance variable\n",
    "        self.age=age\n",
    "\n",
    "\n",
    "\n",
    "##create object\n",
    "dog1=Dog(\"alok\",5)\n",
    "print(dog1.name)\n",
    "pritn(dog1.name)  ##typo corrected to print\n",
    "print(dog1)\n"
   ]
  },
  {
   "cell_type": "code",
   "execution_count": 8,
   "id": "8f5a148a",
   "metadata": {},
   "outputs": [
    {
     "name": "stdout",
     "output_type": "stream",
     "text": [
      "sheru\n",
      "3\n"
     ]
    }
   ],
   "source": [
    "dog2=Dog(\"sheru\",3 )\n",
    "print(dog2.name)\n",
    "print(dog2.age)\n"
   ]
  },
  {
   "cell_type": "code",
   "execution_count": 11,
   "id": "e80e4595",
   "metadata": {},
   "outputs": [
    {
     "name": "stdout",
     "output_type": "stream",
     "text": [
      "alok says woof!\n"
     ]
    }
   ],
   "source": [
    "##Define a Class with instance methods \n",
    "class Dog:\n",
    "    def __init__(self,name,age):\n",
    "        self.name=name\n",
    "        self.age=age\n",
    "    def bark(self):\n",
    "        print(f\"{self.name} says woof!\");\n",
    "dog1=Dog(\"alok\",5)\n",
    "dog1.bark()\n"
   ]
  },
  {
   "cell_type": "code",
   "execution_count": 13,
   "id": "42390cbc",
   "metadata": {},
   "outputs": [
    {
     "name": "stdout",
     "output_type": "stream",
     "text": [
      "sheru\n",
      "sheru says woof!\n",
      "None\n"
     ]
    }
   ],
   "source": [
    "dog2=Dog(\"sheru\",3)\n",
    "print(dog2.name)\n",
    "print(dog2.bark())"
   ]
  },
  {
   "cell_type": "code",
   "execution_count": 27,
   "id": "d66a2bf9",
   "metadata": {},
   "outputs": [
    {
     "name": "stdout",
     "output_type": "stream",
     "text": [
      "5000\n"
     ]
    }
   ],
   "source": [
    "##Modeling a Bank Accoung\n",
    "##define a class for account\n",
    "class BankAccount:\n",
    "    def __init__(self,owner,balance=0):\n",
    "        self.owner=owner\n",
    "        self.balance=balance\n",
    "    def deposit(self,amount):\n",
    "        self.balance+=amount\n",
    "        print(f\"{amount} is deposited New Balance is {self.balance }\")\n",
    "    def withdraw(self,amount):\n",
    "        if amount>self.balance:\n",
    "            print(\"Insufficient funds\")\n",
    "        else:\n",
    "            self.balance-=amount\n",
    "            print(f\"{amount} is withdrawn> New Balance is {self.balance }\")\n",
    "    def get_balance(self):\n",
    "        return self.balance\n",
    "account=BankAccount(\"krish\",5000)\n",
    "print(account\n",
    ".balance)"
   ]
  },
  {
   "cell_type": "code",
   "execution_count": 24,
   "id": "4768c494",
   "metadata": {},
   "outputs": [
    {
     "name": "stdout",
     "output_type": "stream",
     "text": [
      "2000 is deposited New Balance is 7000\n"
     ]
    }
   ],
   "source": [
    "account.deposit(2000)\n"
   ]
  },
  {
   "cell_type": "code",
   "execution_count": 25,
   "id": "d1a434e2",
   "metadata": {},
   "outputs": [
    {
     "name": "stdout",
     "output_type": "stream",
     "text": [
      "100 is deposited New Balance is 7100\n"
     ]
    }
   ],
   "source": [
    "account.deposit(100)"
   ]
  },
  {
   "cell_type": "code",
   "execution_count": 28,
   "id": "3e08b524",
   "metadata": {},
   "outputs": [
    {
     "name": "stdout",
     "output_type": "stream",
     "text": [
      "300 is withdrawn> New Balance is 4700\n"
     ]
    }
   ],
   "source": [
    "account.withdraw(300)"
   ]
  },
  {
   "cell_type": "markdown",
   "id": "4c2eb657",
   "metadata": {},
   "source": [
    "## Inheritance"
   ]
  },
  {
   "cell_type": "code",
   "execution_count": 39,
   "id": "b25c7499",
   "metadata": {},
   "outputs": [],
   "source": [
    "## parent class\n",
    "class Car:\n",
    "    def __init__(self,windows,doors,enginetype):\n",
    "        self.windows=windows\n",
    "        self.doors=doors\n",
    "        self.enginetype=enginetype\n",
    "    def drive(self):\n",
    "        print(f\"person is driving {self.enginetype} car with {self.windows} windows and {self.doors} doors   \")\n",
    "    "
   ]
  },
  {
   "cell_type": "code",
   "execution_count": 40,
   "id": "2b96200c",
   "metadata": {},
   "outputs": [
    {
     "name": "stdout",
     "output_type": "stream",
     "text": [
      "person is driving petrol car with 4 windows and 2 doors   \n"
     ]
    }
   ],
   "source": [
    "car1=Car(4,2,\"petrol\")\n",
    "car1.drive()"
   ]
  },
  {
   "cell_type": "code",
   "execution_count": 41,
   "id": "ff93fd5d",
   "metadata": {},
   "outputs": [],
   "source": [
    "class Tesla(Car):\n",
    "    def __init__(self,windows,doors,enginetype,isSelfDriving):\n",
    "        super().__init__(windows,doors,enginetype)\n",
    "        self.isSelfDriving=isSelfDriving\n",
    "    def selfDriving(self):\n",
    "        print(f\"Tesla supports self-driving: {self.isSelfDriving}\")\n"
   ]
  },
  {
   "cell_type": "code",
   "execution_count": 42,
   "id": "038df026",
   "metadata": {},
   "outputs": [
    {
     "name": "stdout",
     "output_type": "stream",
     "text": [
      "person is driving electric car with 4 windows and 2 doors   \n",
      "Tesla supports self-driving: True\n"
     ]
    }
   ],
   "source": [
    "tesla1=Tesla(4,2,\"electric\",True)\n",
    "tesla1.drive()\n",
    "tesla1.selfDriving()"
   ]
  },
  {
   "cell_type": "markdown",
   "id": "3b8168f7",
   "metadata": {},
   "source": [
    "### Multiple Inheritance"
   ]
  },
  {
   "cell_type": "code",
   "execution_count": 53,
   "id": "d9979c4a",
   "metadata": {},
   "outputs": [],
   "source": [
    "class Animal:\n",
    "    def __init__(self,name):\n",
    "        self.name=name\n",
    "    def speak(self):\n",
    "        print(f\"subclass must implement this sound\")\n",
    "class Pet:\n",
    "    def __init__(self,owner):\n",
    "        self.owner=owner\n",
    "class Dog(Animal,Pet):\n",
    "    def __init__(self,name,owner):\n",
    "        Animal.__init__(self,name)\n",
    "        Pet.__init__(self,owner)\n",
    "    def speak(self):\n",
    "        print(f\"{self.name} says woof! and owned by {self.owner}\")"
   ]
  },
  {
   "cell_type": "code",
   "execution_count": 54,
   "id": "5d1296e2",
   "metadata": {},
   "outputs": [
    {
     "name": "stdout",
     "output_type": "stream",
     "text": [
      "buddy says woof! and owned by John\n"
     ]
    }
   ],
   "source": [
    "dog=Dog(\"buddy\",\"John\")\n",
    "dog.speak()\n"
   ]
  },
  {
   "cell_type": "markdown",
   "id": "9b0eff4d",
   "metadata": {},
   "source": [
    "## Polymorphism\n"
   ]
  },
  {
   "cell_type": "code",
   "execution_count": 2,
   "id": "fb2eea16",
   "metadata": {},
   "outputs": [
    {
     "name": "stdout",
     "output_type": "stream",
     "text": [
      "Woof! Woof!\n",
      "Meow! Meow!\n",
      "Woof! Woof!\n"
     ]
    }
   ],
   "source": [
    "class Animal:\n",
    "    def speek(self):\n",
    "        return \"sound of the animal\"\n",
    "class Dog(Animal):\n",
    "    def speak(self):\n",
    "        return \"Woof! Woof!\"\n",
    "class Cat(Animal):\n",
    "    def speak(self):\n",
    "        return \"Meow! Meow!\"    \n",
    "##function that demonstrates polymorphism\n",
    "def animal_speak(animal):\n",
    "    print(animal.speak())\n",
    "dog=Dog()\n",
    "print(dog.speak())\n",
    "cat=Cat()\n",
    "print(cat.speak())\n",
    "animal_speak(dog)\n",
    "     \n"
   ]
  },
  {
   "cell_type": "code",
   "execution_count": 4,
   "id": "f478d430",
   "metadata": {},
   "outputs": [
    {
     "name": "stdout",
     "output_type": "stream",
     "text": [
      "the area of the shape is 50 \n",
      "the area of the shape is 153.86 \n"
     ]
    }
   ],
   "source": [
    "###polymorphism with funciton and methods\n",
    "class Shape:\n",
    "    def area(self):\n",
    "        return \"the area of the the figure is not defined\" \n",
    "class Rectangle(Shape):\n",
    "    def __init__(self,width,height):\n",
    "        self.width=width\n",
    "        self.height=height\n",
    "    def area(self):\n",
    "        return self.width*self.height\n",
    "##Derived Class 2\n",
    "class Circle(Shape):\n",
    "    def __init__(self,radius):\n",
    "        self.radius=radius\n",
    "    def area(self):\n",
    "        return 3.14*self.radius*self.radius\n",
    "def print_area(shape):\n",
    "    print(f\"the area of the shape is {shape.area()} \")\n",
    "rec=Rectangle(5,10)\n",
    "print_area(rec)\n",
    "circle=Circle(7)    \n",
    "print_area(circle)"
   ]
  },
  {
   "cell_type": "code",
   "execution_count": null,
   "id": "20d92ee3",
   "metadata": {},
   "outputs": [],
   "source": []
  },
  {
   "cell_type": "markdown",
   "id": "b8a30e63",
   "metadata": {},
   "source": [
    "## Polymorphism with abstract base class\n"
   ]
  },
  {
   "cell_type": "markdown",
   "id": "0ba19a7d",
   "metadata": {},
   "source": [
    "Abstract base classes (ABCs) are used to define a common  methods for a group of related classes . They can enforce that derived classes implement particular methods, promoting consistency across different implemnetation."
   ]
  },
  {
   "cell_type": "code",
   "execution_count": 5,
   "id": "21694d80",
   "metadata": {},
   "outputs": [
    {
     "name": "stdout",
     "output_type": "stream",
     "text": [
      "car engine started\n",
      "motorcycle engine started\n"
     ]
    }
   ],
   "source": [
    "from abc import ABC,abstractmethod\n",
    "## define an abstract class\n",
    "class Vehicle(ABC):\n",
    "    @abstractmethod\n",
    "    def start_engine(self):\n",
    "        pass\n",
    "class Car(Vehicle):\n",
    "    def start_engine(self):\n",
    "        print(\"car engine started\")\n",
    "class MotorCycle(Vehicle):\n",
    "    def start_engine(self):\n",
    "        print(\"motorcycle engine started\")\n",
    "##create object of car and motorcycle\n",
    "\n",
    "car=Car()\n",
    "\n",
    "moto=MotorCycle()\n",
    "car.start_engine()\n",
    "moto.start_engine()"
   ]
  },
  {
   "cell_type": "markdown",
   "id": "f7186c0d",
   "metadata": {},
   "source": [
    "## Encapsulation and Abstraction"
   ]
  },
  {
   "cell_type": "markdown",
   "id": "1aff709e",
   "metadata": {},
   "source": [
    "it helps in building robust, maintanable and resuable code.\n",
    "Encapsulation involves bundling data and methods that operate on the data within a single unit, while abtraction involves hiding complex implementation details and exposing only the necessary features."
   ]
  },
  {
   "cell_type": "markdown",
   "id": "96e7bd4b",
   "metadata": {},
   "source": [
    "### Encapsulation"
   ]
  },
  {
   "cell_type": "markdown",
   "id": "0260702b",
   "metadata": {},
   "source": [
    "wrapping data and methods together as a single unit. restrict direct acess to some of the objects components."
   ]
  },
  {
   "cell_type": "code",
   "execution_count": null,
   "id": "677f452c",
   "metadata": {},
   "outputs": [
    {
     "name": "stdout",
     "output_type": "stream",
     "text": [
      "John\n"
     ]
    }
   ],
   "source": [
    "### Encapsulation With Getter and Setter\n",
    "\n",
    "class Person:\n",
    "    def __init__(self,name,age):\n",
    "        self.name=name ## public varible\n",
    "        self.age=age ## public variables\n",
    "\n",
    "person=Person(\"John\",34)\n",
    "\n"
   ]
  },
  {
   "cell_type": "code",
   "execution_count": 9,
   "id": "720d4200",
   "metadata": {},
   "outputs": [
    {
     "data": {
      "text/plain": [
       "['__class__',\n",
       " '__delattr__',\n",
       " '__dict__',\n",
       " '__dir__',\n",
       " '__doc__',\n",
       " '__eq__',\n",
       " '__format__',\n",
       " '__ge__',\n",
       " '__getattribute__',\n",
       " '__getstate__',\n",
       " '__gt__',\n",
       " '__hash__',\n",
       " '__init__',\n",
       " '__init_subclass__',\n",
       " '__le__',\n",
       " '__lt__',\n",
       " '__module__',\n",
       " '__ne__',\n",
       " '__new__',\n",
       " '__reduce__',\n",
       " '__reduce_ex__',\n",
       " '__repr__',\n",
       " '__setattr__',\n",
       " '__sizeof__',\n",
       " '__str__',\n",
       " '__subclasshook__',\n",
       " '__weakref__',\n",
       " 'age',\n",
       " 'name']"
      ]
     },
     "execution_count": 9,
     "metadata": {},
     "output_type": "execute_result"
    }
   ],
   "source": [
    "dir(person)"
   ]
  },
  {
   "cell_type": "code",
   "execution_count": null,
   "id": "44ed00c0",
   "metadata": {},
   "outputs": [
    {
     "ename": "AttributeError",
     "evalue": "'Person' object has no attribute '__name'",
     "output_type": "error",
     "traceback": [
      "\u001b[1;31m---------------------------------------------------------------------------\u001b[0m",
      "\u001b[1;31mAttributeError\u001b[0m                            Traceback (most recent call last)",
      "Cell \u001b[1;32mIn[16], line 10\u001b[0m\n\u001b[0;32m      8\u001b[0m \u001b[38;5;28;01mdef\u001b[39;00m \u001b[38;5;21mget_name\u001b[39m(person):\n\u001b[0;32m      9\u001b[0m     \u001b[38;5;28;01mreturn\u001b[39;00m person\u001b[38;5;241m.\u001b[39m__name\n\u001b[1;32m---> 10\u001b[0m \u001b[38;5;28mprint\u001b[39m(get_name(person))\n",
      "Cell \u001b[1;32mIn[16], line 9\u001b[0m, in \u001b[0;36mget_name\u001b[1;34m(person)\u001b[0m\n\u001b[0;32m      8\u001b[0m \u001b[38;5;28;01mdef\u001b[39;00m \u001b[38;5;21mget_name\u001b[39m(person):\n\u001b[1;32m----> 9\u001b[0m     \u001b[38;5;28;01mreturn\u001b[39;00m person\u001b[38;5;241m.\u001b[39m__name\n",
      "\u001b[1;31mAttributeError\u001b[0m: 'Person' object has no attribute '__name'"
     ]
    }
   ],
   "source": [
    "class Person:\n",
    "    def __init__(self,name,age):\n",
    "        self.__name=name ## private variable with name name\n",
    "        self.__age=age ## private varibale with name age \n",
    "        self.age=\"male\"\n",
    "\n",
    "person=Person(\"John\",34)\n",
    "def get_name(person):\n",
    "    return person.__name ##private variable\n",
    "print(get_name(person))\n"
   ]
  },
  {
   "cell_type": "code",
   "execution_count": 14,
   "id": "33bf7b75",
   "metadata": {},
   "outputs": [
    {
     "data": {
      "text/plain": [
       "['_Person__age',\n",
       " '_Person__name',\n",
       " '__class__',\n",
       " '__delattr__',\n",
       " '__dict__',\n",
       " '__dir__',\n",
       " '__doc__',\n",
       " '__eq__',\n",
       " '__format__',\n",
       " '__ge__',\n",
       " '__getattribute__',\n",
       " '__getstate__',\n",
       " '__gt__',\n",
       " '__hash__',\n",
       " '__init__',\n",
       " '__init_subclass__',\n",
       " '__le__',\n",
       " '__lt__',\n",
       " '__module__',\n",
       " '__ne__',\n",
       " '__new__',\n",
       " '__reduce__',\n",
       " '__reduce_ex__',\n",
       " '__repr__',\n",
       " '__setattr__',\n",
       " '__sizeof__',\n",
       " '__str__',\n",
       " '__subclasshook__',\n",
       " '__weakref__',\n",
       " 'age']"
      ]
     },
     "execution_count": 14,
     "metadata": {},
     "output_type": "execute_result"
    }
   ],
   "source": [
    "dir(person) ## name and age will not be visible as they are private variables"
   ]
  },
  {
   "cell_type": "code",
   "execution_count": 21,
   "id": "97a531a5",
   "metadata": {},
   "outputs": [
    {
     "name": "stdout",
     "output_type": "stream",
     "text": [
      "John\n"
     ]
    }
   ],
   "source": [
    "##Protected VAribale (with signle underscore)\n",
    "class Person:\n",
    "    def __init__(self,name,age,gender):\n",
    "        self._name=name ## protected variable with name name\n",
    "        self._age=age ## protected varibale with name age\n",
    "        self.gender=gender\n",
    "class Employee(Person):\n",
    "    def __init__(self,name,age,gender):\n",
    "        super().__init__(name, age,gender)\n",
    "def get_name(self):\n",
    "        return self._name ##protected variable\n",
    "employee=Employee(\"John\",34,'male')\n",
    "print(get_name(employee)) ##accessing protected variable through subclass\n"
   ]
  },
  {
   "cell_type": "code",
   "execution_count": null,
   "id": "db7b7862",
   "metadata": {},
   "outputs": [
    {
     "name": "stdout",
     "output_type": "stream",
     "text": [
      "Amar\n",
      "30\n",
      "Kumar\n",
      "23\n"
     ]
    }
   ],
   "source": [
    "##Encapsulation with gettter and setter\n",
    "\n",
    "class Person:\n",
    "    def __init__(self,name,age):\n",
    "        self.__name=name\n",
    "        self.__age=age\n",
    "    \n",
    "    def get_name(self):\n",
    "        return self.__name\n",
    "    def set_name(self,name):\n",
    "        self.__name=name\n",
    "    \n",
    "    def get_age(self):\n",
    "        return self.__age\n",
    "    def set_age(self,age):\n",
    "        if age>0:\n",
    "            self.__age=age\n",
    "        else:\n",
    "            print(\"Age must be positive\")   \n",
    "person=Person(\"Amar\",30)\n",
    "\n",
    "##Acess and Modify private Variables using getter and setter\n",
    "print(person.get_name())\n",
    "print(person.get_age())\n",
    "\n",
    "person.set_name(\"Kumar\")\n",
    "person.set_age(23)\n",
    "print(person.get_name())\n",
    "print(person.get_age()) "
   ]
  },
  {
   "cell_type": "markdown",
   "id": "3f7d6a96",
   "metadata": {},
   "source": [
    "## Abstraction\n"
   ]
  },
  {
   "cell_type": "markdown",
   "id": "152f86f1",
   "metadata": {},
   "source": [
    "abstraction is the concept of hiding the complex implementation details and showing only the necessary features of an object. This helps in reducing programming complexity and effort."
   ]
  },
  {
   "cell_type": "code",
   "execution_count": 23,
   "id": "9680096d",
   "metadata": {},
   "outputs": [
    {
     "name": "stdout",
     "output_type": "stream",
     "text": [
      "car engine started\n"
     ]
    }
   ],
   "source": [
    "from abc import ABC , abstractmethod\n",
    "##abstract calss\n",
    "class Vehicle(ABC):\n",
    "    def drive(self):\n",
    "        print(\"vehicle is driving\")\n",
    "    @abstractmethod\n",
    "    def start_engine(self):\n",
    "        pass\n",
    "class Car(Vehicle):\n",
    "    def start_engine(self):\n",
    "        print(\"car engine started\")\n",
    "def operate_vehicle(vehicle):\n",
    "    vehicle.start_engine()\n",
    "car=Car()\n",
    "operate_vehicle(car)  ##polymorphism in action\n",
    "\n",
    "\n"
   ]
  },
  {
   "cell_type": "markdown",
   "id": "bdaa0f67",
   "metadata": {},
   "source": [
    "## Magic Methods( __ method __)"
   ]
  },
  {
   "cell_type": "markdown",
   "id": "fbe1d7d1",
   "metadata": {},
   "source": [
    "Magic Metho in python , also know as dunder method(double underscore methods ), are special methods that starts and ends with double underscores. Theses methods enable you to define the behavior of objects for built-in operations , such as arithmatic , comparisons etc."
   ]
  },
  {
   "cell_type": "markdown",
   "id": "3b173dbc",
   "metadata": {},
   "source": [
    "#### Magic methods \n",
    "magic methods are predefind methods that you can override to change the behavior of your objects"
   ]
  },
  {
   "cell_type": "code",
   "execution_count": 24,
   "id": "da4e1414",
   "metadata": {},
   "outputs": [],
   "source": [
    "# __init__ : constructor\n",
    "# __str__ : string representation of an object\n",
    "# __repr__ : returns an official string representastion of an object\n",
    "# __len__: returns the length of an object\n",
    "# __getitem__ : get an item from a container\n"
   ]
  },
  {
   "cell_type": "code",
   "execution_count": 26,
   "id": "f03eac5f",
   "metadata": {},
   "outputs": [
    {
     "name": "stdout",
     "output_type": "stream",
     "text": [
      "['__class__', '__delattr__', '__dict__', '__dir__', '__doc__', '__eq__', '__format__', '__ge__', '__getattribute__', '__getstate__', '__gt__', '__hash__', '__init__', '__init_subclass__', '__le__', '__lt__', '__module__', '__ne__', '__new__', '__reduce__', '__reduce_ex__', '__repr__', '__setattr__', '__sizeof__', '__str__', '__subclasshook__', '__weakref__']\n"
     ]
    }
   ],
   "source": [
    "class Person: \n",
    "    pass\n",
    "person =Person()\n",
    "print(dir(person))"
   ]
  },
  {
   "cell_type": "code",
   "execution_count": 27,
   "id": "e6d675ef",
   "metadata": {},
   "outputs": [
    {
     "name": "stdout",
     "output_type": "stream",
     "text": [
      "<__main__.Person object at 0x0000025B09C26300>\n"
     ]
    }
   ],
   "source": [
    "print(person)"
   ]
  },
  {
   "cell_type": "code",
   "execution_count": 28,
   "id": "767ba8f2",
   "metadata": {},
   "outputs": [],
   "source": [
    "## Basics methods"
   ]
  },
  {
   "cell_type": "code",
   "execution_count": 35,
   "id": "ada542e2",
   "metadata": {},
   "outputs": [
    {
     "name": "stdout",
     "output_type": "stream",
     "text": [
      "John\n",
      " John ,30\n",
      "person(namm=John, age=30)\n"
     ]
    }
   ],
   "source": [
    "class Person:\n",
    "    def __init__(self,name,age):\n",
    "        self.name=name\n",
    "        self.age=age\n",
    "    def __str__ (self):\n",
    "        return f\" {self.name} ,{self.age}\"\n",
    "    \n",
    "    def __repr__(self):\n",
    "        return f\"person(namm={self.name}, age={self.age})\"\n",
    "person = Person(\"John\", 30)\n",
    "print(person.name)\n",
    "print(person)\n",
    "print(repr(person))"
   ]
  },
  {
   "cell_type": "markdown",
   "id": "9a7aac75",
   "metadata": {},
   "source": [
    "## Operator   Overloading\n"
   ]
  },
  {
   "cell_type": "code",
   "execution_count": null,
   "id": "ce9b439c",
   "metadata": {},
   "outputs": [],
   "source": [
    "## common operator overloading magic methods\n",
    "# __add__(self, other):    adds two objects using + operator\n",
    "# __sub__(self, other):    subtracts two objects using - operator\n",
    "# __mul__(self, other):    multiplies two objects using * operator\n",
    "# __truediv__(self, other): divides two objects using / operator\n",
    "# __floordiv__(self, other): divides two objects using // operator\n",
    "# __eq__(self, other):     checks if two objects are equal using == operator\n",
    "# __ne__(self, other):     checks if two objects are not equal using != operator\n",
    "# __gt__: greater than operator"
   ]
  },
  {
   "cell_type": "code",
   "execution_count": 42,
   "id": "4743ab56",
   "metadata": {},
   "outputs": [
    {
     "name": "stdout",
     "output_type": "stream",
     "text": [
      "Vector(6,8)\n"
     ]
    }
   ],
   "source": [
    "class Vector:\n",
    "    def __init__(self,x,y):\n",
    "        self.x=x\n",
    "        self.y=y\n",
    "    def __add__(self,other):\n",
    "        return Vector(self.x+other.x,self.y+other.y)\n",
    "    \n",
    "    def __sub__(self,other):\n",
    "        return Vector(self.x-other.x,self.y-other.y)\n",
    "    def __mul__(self,other):\n",
    "        return Vector(self.x*other.x,self.y*other.y)\n",
    "    \n",
    "    def __eq__(self,other):\n",
    "        return self.x==other.x and self.y==other.y\n",
    "    \n",
    "    def __repr__(self):\n",
    "        return f\"Vector({self.x},{self.y})\"\n",
    "    \n",
    "v1=Vector(2,3)\n",
    "v2=Vector(4,5)\n",
    "print(v1+v2)\n"
   ]
  },
  {
   "cell_type": "markdown",
   "id": "fd105bbc",
   "metadata": {},
   "source": [
    "## custom Exception"
   ]
  },
  {
   "cell_type": "code",
   "execution_count": 45,
   "id": "8caf336c",
   "metadata": {},
   "outputs": [],
   "source": [
    "class Error(Exception):\n",
    "    pass\n",
    "class dobException(Error):\n",
    "    pass"
   ]
  },
  {
   "cell_type": "code",
   "execution_count": 50,
   "id": "067e8880",
   "metadata": {},
   "outputs": [
    {
     "name": "stdout",
     "output_type": "stream",
     "text": [
      "you are not eligible for the job\n",
      "your age should be between 20 and 30\n"
     ]
    }
   ],
   "source": [
    "year=int(input(\"Enter your year of birth: \"))\n",
    "age=2025-year\n",
    "try:\n",
    "    if age<=30 and age>=20:\n",
    "        print(\"you are eligible for the job\")\n",
    "    else:\n",
    "        raise dobException\n",
    "except dobException:\n",
    "    print(\"you are not eligible for the job\")\n",
    "    print(\"your age should be between 20 and 30\")\n",
    "\n"
   ]
  },
  {
   "cell_type": "code",
   "execution_count": null,
   "id": "e0997b98",
   "metadata": {},
   "outputs": [],
   "source": []
  }
 ],
 "metadata": {
  "kernelspec": {
   "display_name": "base",
   "language": "python",
   "name": "python3"
  },
  "language_info": {
   "codemirror_mode": {
    "name": "ipython",
    "version": 3
   },
   "file_extension": ".py",
   "mimetype": "text/x-python",
   "name": "python",
   "nbconvert_exporter": "python",
   "pygments_lexer": "ipython3",
   "version": "3.12.7"
  }
 },
 "nbformat": 4,
 "nbformat_minor": 5
}
